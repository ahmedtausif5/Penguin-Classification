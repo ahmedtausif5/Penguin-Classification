{
 "cells": [
  {
   "cell_type": "code",
   "execution_count": 1,
   "id": "580076df",
   "metadata": {},
   "outputs": [],
   "source": [
    "import pandas as pd\n",
    "import numpy as np\n",
    "import matplotlib.pyplot as plt"
   ]
  },
  {
   "cell_type": "code",
   "execution_count": 2,
   "id": "43ef70a9",
   "metadata": {},
   "outputs": [
    {
     "data": {
      "text/html": [
       "<div>\n",
       "<style scoped>\n",
       "    .dataframe tbody tr th:only-of-type {\n",
       "        vertical-align: middle;\n",
       "    }\n",
       "\n",
       "    .dataframe tbody tr th {\n",
       "        vertical-align: top;\n",
       "    }\n",
       "\n",
       "    .dataframe thead th {\n",
       "        text-align: right;\n",
       "    }\n",
       "</style>\n",
       "<table border=\"1\" class=\"dataframe\">\n",
       "  <thead>\n",
       "    <tr style=\"text-align: right;\">\n",
       "      <th></th>\n",
       "      <th>studyName</th>\n",
       "      <th>Sample Number</th>\n",
       "      <th>Species</th>\n",
       "      <th>Region</th>\n",
       "      <th>Island</th>\n",
       "      <th>Stage</th>\n",
       "      <th>Individual ID</th>\n",
       "      <th>Clutch Completion</th>\n",
       "      <th>Date Egg</th>\n",
       "      <th>Culmen Length (mm)</th>\n",
       "      <th>Culmen Depth (mm)</th>\n",
       "      <th>Flipper Length (mm)</th>\n",
       "      <th>Body Mass (g)</th>\n",
       "      <th>Sex</th>\n",
       "      <th>Delta 15 N (o/oo)</th>\n",
       "      <th>Delta 13 C (o/oo)</th>\n",
       "      <th>Comments</th>\n",
       "    </tr>\n",
       "  </thead>\n",
       "  <tbody>\n",
       "    <tr>\n",
       "      <th>0</th>\n",
       "      <td>PAL0708</td>\n",
       "      <td>1</td>\n",
       "      <td>Adelie Penguin (Pygoscelis adeliae)</td>\n",
       "      <td>Anvers</td>\n",
       "      <td>Torgersen</td>\n",
       "      <td>Adult, 1 Egg Stage</td>\n",
       "      <td>N1A1</td>\n",
       "      <td>Yes</td>\n",
       "      <td>2007-11-11</td>\n",
       "      <td>39.1</td>\n",
       "      <td>18.7</td>\n",
       "      <td>181.0</td>\n",
       "      <td>3750.0</td>\n",
       "      <td>MALE</td>\n",
       "      <td>NaN</td>\n",
       "      <td>NaN</td>\n",
       "      <td>Not enough blood for isotopes.</td>\n",
       "    </tr>\n",
       "    <tr>\n",
       "      <th>1</th>\n",
       "      <td>PAL0708</td>\n",
       "      <td>2</td>\n",
       "      <td>Adelie Penguin (Pygoscelis adeliae)</td>\n",
       "      <td>Anvers</td>\n",
       "      <td>Torgersen</td>\n",
       "      <td>Adult, 1 Egg Stage</td>\n",
       "      <td>N1A2</td>\n",
       "      <td>Yes</td>\n",
       "      <td>2007-11-11</td>\n",
       "      <td>39.5</td>\n",
       "      <td>17.4</td>\n",
       "      <td>186.0</td>\n",
       "      <td>3800.0</td>\n",
       "      <td>FEMALE</td>\n",
       "      <td>8.94956</td>\n",
       "      <td>-24.69454</td>\n",
       "      <td>NaN</td>\n",
       "    </tr>\n",
       "    <tr>\n",
       "      <th>2</th>\n",
       "      <td>PAL0708</td>\n",
       "      <td>3</td>\n",
       "      <td>Adelie Penguin (Pygoscelis adeliae)</td>\n",
       "      <td>Anvers</td>\n",
       "      <td>Torgersen</td>\n",
       "      <td>Adult, 1 Egg Stage</td>\n",
       "      <td>N2A1</td>\n",
       "      <td>Yes</td>\n",
       "      <td>2007-11-16</td>\n",
       "      <td>40.3</td>\n",
       "      <td>18.0</td>\n",
       "      <td>195.0</td>\n",
       "      <td>3250.0</td>\n",
       "      <td>FEMALE</td>\n",
       "      <td>8.36821</td>\n",
       "      <td>-25.33302</td>\n",
       "      <td>NaN</td>\n",
       "    </tr>\n",
       "    <tr>\n",
       "      <th>3</th>\n",
       "      <td>PAL0708</td>\n",
       "      <td>4</td>\n",
       "      <td>Adelie Penguin (Pygoscelis adeliae)</td>\n",
       "      <td>Anvers</td>\n",
       "      <td>Torgersen</td>\n",
       "      <td>Adult, 1 Egg Stage</td>\n",
       "      <td>N2A2</td>\n",
       "      <td>Yes</td>\n",
       "      <td>2007-11-16</td>\n",
       "      <td>NaN</td>\n",
       "      <td>NaN</td>\n",
       "      <td>NaN</td>\n",
       "      <td>NaN</td>\n",
       "      <td>NaN</td>\n",
       "      <td>NaN</td>\n",
       "      <td>NaN</td>\n",
       "      <td>Adult not sampled.</td>\n",
       "    </tr>\n",
       "    <tr>\n",
       "      <th>4</th>\n",
       "      <td>PAL0708</td>\n",
       "      <td>5</td>\n",
       "      <td>Adelie Penguin (Pygoscelis adeliae)</td>\n",
       "      <td>Anvers</td>\n",
       "      <td>Torgersen</td>\n",
       "      <td>Adult, 1 Egg Stage</td>\n",
       "      <td>N3A1</td>\n",
       "      <td>Yes</td>\n",
       "      <td>2007-11-16</td>\n",
       "      <td>36.7</td>\n",
       "      <td>19.3</td>\n",
       "      <td>193.0</td>\n",
       "      <td>3450.0</td>\n",
       "      <td>FEMALE</td>\n",
       "      <td>8.76651</td>\n",
       "      <td>-25.32426</td>\n",
       "      <td>NaN</td>\n",
       "    </tr>\n",
       "    <tr>\n",
       "      <th>...</th>\n",
       "      <td>...</td>\n",
       "      <td>...</td>\n",
       "      <td>...</td>\n",
       "      <td>...</td>\n",
       "      <td>...</td>\n",
       "      <td>...</td>\n",
       "      <td>...</td>\n",
       "      <td>...</td>\n",
       "      <td>...</td>\n",
       "      <td>...</td>\n",
       "      <td>...</td>\n",
       "      <td>...</td>\n",
       "      <td>...</td>\n",
       "      <td>...</td>\n",
       "      <td>...</td>\n",
       "      <td>...</td>\n",
       "      <td>...</td>\n",
       "    </tr>\n",
       "    <tr>\n",
       "      <th>339</th>\n",
       "      <td>PAL0910</td>\n",
       "      <td>64</td>\n",
       "      <td>Chinstrap penguin (Pygoscelis antarctica)</td>\n",
       "      <td>Anvers</td>\n",
       "      <td>Dream</td>\n",
       "      <td>Adult, 1 Egg Stage</td>\n",
       "      <td>N98A2</td>\n",
       "      <td>Yes</td>\n",
       "      <td>2009-11-19</td>\n",
       "      <td>55.8</td>\n",
       "      <td>19.8</td>\n",
       "      <td>207.0</td>\n",
       "      <td>4000.0</td>\n",
       "      <td>MALE</td>\n",
       "      <td>9.70465</td>\n",
       "      <td>-24.53494</td>\n",
       "      <td>NaN</td>\n",
       "    </tr>\n",
       "    <tr>\n",
       "      <th>340</th>\n",
       "      <td>PAL0910</td>\n",
       "      <td>65</td>\n",
       "      <td>Chinstrap penguin (Pygoscelis antarctica)</td>\n",
       "      <td>Anvers</td>\n",
       "      <td>Dream</td>\n",
       "      <td>Adult, 1 Egg Stage</td>\n",
       "      <td>N99A1</td>\n",
       "      <td>No</td>\n",
       "      <td>2009-11-21</td>\n",
       "      <td>43.5</td>\n",
       "      <td>18.1</td>\n",
       "      <td>202.0</td>\n",
       "      <td>3400.0</td>\n",
       "      <td>FEMALE</td>\n",
       "      <td>9.37608</td>\n",
       "      <td>-24.40753</td>\n",
       "      <td>Nest never observed with full clutch.</td>\n",
       "    </tr>\n",
       "    <tr>\n",
       "      <th>341</th>\n",
       "      <td>PAL0910</td>\n",
       "      <td>66</td>\n",
       "      <td>Chinstrap penguin (Pygoscelis antarctica)</td>\n",
       "      <td>Anvers</td>\n",
       "      <td>Dream</td>\n",
       "      <td>Adult, 1 Egg Stage</td>\n",
       "      <td>N99A2</td>\n",
       "      <td>No</td>\n",
       "      <td>2009-11-21</td>\n",
       "      <td>49.6</td>\n",
       "      <td>18.2</td>\n",
       "      <td>193.0</td>\n",
       "      <td>3775.0</td>\n",
       "      <td>MALE</td>\n",
       "      <td>9.46180</td>\n",
       "      <td>-24.70615</td>\n",
       "      <td>Nest never observed with full clutch.</td>\n",
       "    </tr>\n",
       "    <tr>\n",
       "      <th>342</th>\n",
       "      <td>PAL0910</td>\n",
       "      <td>67</td>\n",
       "      <td>Chinstrap penguin (Pygoscelis antarctica)</td>\n",
       "      <td>Anvers</td>\n",
       "      <td>Dream</td>\n",
       "      <td>Adult, 1 Egg Stage</td>\n",
       "      <td>N100A1</td>\n",
       "      <td>Yes</td>\n",
       "      <td>2009-11-21</td>\n",
       "      <td>50.8</td>\n",
       "      <td>19.0</td>\n",
       "      <td>210.0</td>\n",
       "      <td>4100.0</td>\n",
       "      <td>MALE</td>\n",
       "      <td>9.98044</td>\n",
       "      <td>-24.68741</td>\n",
       "      <td>NaN</td>\n",
       "    </tr>\n",
       "    <tr>\n",
       "      <th>343</th>\n",
       "      <td>PAL0910</td>\n",
       "      <td>68</td>\n",
       "      <td>Chinstrap penguin (Pygoscelis antarctica)</td>\n",
       "      <td>Anvers</td>\n",
       "      <td>Dream</td>\n",
       "      <td>Adult, 1 Egg Stage</td>\n",
       "      <td>N100A2</td>\n",
       "      <td>Yes</td>\n",
       "      <td>2009-11-21</td>\n",
       "      <td>50.2</td>\n",
       "      <td>18.7</td>\n",
       "      <td>198.0</td>\n",
       "      <td>3775.0</td>\n",
       "      <td>FEMALE</td>\n",
       "      <td>9.39305</td>\n",
       "      <td>-24.25255</td>\n",
       "      <td>NaN</td>\n",
       "    </tr>\n",
       "  </tbody>\n",
       "</table>\n",
       "<p>344 rows × 17 columns</p>\n",
       "</div>"
      ],
      "text/plain": [
       "    studyName  Sample Number                                    Species  \\\n",
       "0     PAL0708              1        Adelie Penguin (Pygoscelis adeliae)   \n",
       "1     PAL0708              2        Adelie Penguin (Pygoscelis adeliae)   \n",
       "2     PAL0708              3        Adelie Penguin (Pygoscelis adeliae)   \n",
       "3     PAL0708              4        Adelie Penguin (Pygoscelis adeliae)   \n",
       "4     PAL0708              5        Adelie Penguin (Pygoscelis adeliae)   \n",
       "..        ...            ...                                        ...   \n",
       "339   PAL0910             64  Chinstrap penguin (Pygoscelis antarctica)   \n",
       "340   PAL0910             65  Chinstrap penguin (Pygoscelis antarctica)   \n",
       "341   PAL0910             66  Chinstrap penguin (Pygoscelis antarctica)   \n",
       "342   PAL0910             67  Chinstrap penguin (Pygoscelis antarctica)   \n",
       "343   PAL0910             68  Chinstrap penguin (Pygoscelis antarctica)   \n",
       "\n",
       "     Region     Island               Stage Individual ID Clutch Completion  \\\n",
       "0    Anvers  Torgersen  Adult, 1 Egg Stage          N1A1               Yes   \n",
       "1    Anvers  Torgersen  Adult, 1 Egg Stage          N1A2               Yes   \n",
       "2    Anvers  Torgersen  Adult, 1 Egg Stage          N2A1               Yes   \n",
       "3    Anvers  Torgersen  Adult, 1 Egg Stage          N2A2               Yes   \n",
       "4    Anvers  Torgersen  Adult, 1 Egg Stage          N3A1               Yes   \n",
       "..      ...        ...                 ...           ...               ...   \n",
       "339  Anvers      Dream  Adult, 1 Egg Stage         N98A2               Yes   \n",
       "340  Anvers      Dream  Adult, 1 Egg Stage         N99A1                No   \n",
       "341  Anvers      Dream  Adult, 1 Egg Stage         N99A2                No   \n",
       "342  Anvers      Dream  Adult, 1 Egg Stage        N100A1               Yes   \n",
       "343  Anvers      Dream  Adult, 1 Egg Stage        N100A2               Yes   \n",
       "\n",
       "       Date Egg  Culmen Length (mm)  Culmen Depth (mm)  Flipper Length (mm)  \\\n",
       "0    2007-11-11                39.1               18.7                181.0   \n",
       "1    2007-11-11                39.5               17.4                186.0   \n",
       "2    2007-11-16                40.3               18.0                195.0   \n",
       "3    2007-11-16                 NaN                NaN                  NaN   \n",
       "4    2007-11-16                36.7               19.3                193.0   \n",
       "..          ...                 ...                ...                  ...   \n",
       "339  2009-11-19                55.8               19.8                207.0   \n",
       "340  2009-11-21                43.5               18.1                202.0   \n",
       "341  2009-11-21                49.6               18.2                193.0   \n",
       "342  2009-11-21                50.8               19.0                210.0   \n",
       "343  2009-11-21                50.2               18.7                198.0   \n",
       "\n",
       "     Body Mass (g)     Sex  Delta 15 N (o/oo)  Delta 13 C (o/oo)  \\\n",
       "0           3750.0    MALE                NaN                NaN   \n",
       "1           3800.0  FEMALE            8.94956          -24.69454   \n",
       "2           3250.0  FEMALE            8.36821          -25.33302   \n",
       "3              NaN     NaN                NaN                NaN   \n",
       "4           3450.0  FEMALE            8.76651          -25.32426   \n",
       "..             ...     ...                ...                ...   \n",
       "339         4000.0    MALE            9.70465          -24.53494   \n",
       "340         3400.0  FEMALE            9.37608          -24.40753   \n",
       "341         3775.0    MALE            9.46180          -24.70615   \n",
       "342         4100.0    MALE            9.98044          -24.68741   \n",
       "343         3775.0  FEMALE            9.39305          -24.25255   \n",
       "\n",
       "                                  Comments  \n",
       "0           Not enough blood for isotopes.  \n",
       "1                                      NaN  \n",
       "2                                      NaN  \n",
       "3                       Adult not sampled.  \n",
       "4                                      NaN  \n",
       "..                                     ...  \n",
       "339                                    NaN  \n",
       "340  Nest never observed with full clutch.  \n",
       "341  Nest never observed with full clutch.  \n",
       "342                                    NaN  \n",
       "343                                    NaN  \n",
       "\n",
       "[344 rows x 17 columns]"
      ]
     },
     "execution_count": 2,
     "metadata": {},
     "output_type": "execute_result"
    }
   ],
   "source": [
    "df = pd.read_csv('penguins_raw.csv')\n",
    "df"
   ]
  },
  {
   "cell_type": "markdown",
   "id": "2d06a0df",
   "metadata": {},
   "source": [
    "<b>Shape of the dataframe:</b>"
   ]
  },
  {
   "cell_type": "code",
   "execution_count": 3,
   "id": "088d517c",
   "metadata": {},
   "outputs": [
    {
     "data": {
      "text/plain": [
       "(344, 17)"
      ]
     },
     "execution_count": 3,
     "metadata": {},
     "output_type": "execute_result"
    }
   ],
   "source": [
    "df.shape"
   ]
  },
  {
   "cell_type": "markdown",
   "id": "d38ef579",
   "metadata": {},
   "source": [
    "<b>Distribution of Target Labels (Species):</b>"
   ]
  },
  {
   "cell_type": "code",
   "execution_count": 4,
   "id": "d972653b",
   "metadata": {},
   "outputs": [
    {
     "data": {
      "text/plain": [
       "([0, 1, 2], [Text(0, 0, ''), Text(0, 0, ''), Text(0, 0, '')])"
      ]
     },
     "execution_count": 4,
     "metadata": {},
     "output_type": "execute_result"
    },
    {
     "data": {
      "image/png": "[encoded data removed]",
      "text/plain": [
       "<Figure size 432x288 with 1 Axes>"
      ]
     },
     "metadata": {
      "needs_background": "light"
     },
     "output_type": "display_data"
    }
   ],
   "source": [
    "hist_target_label = df['Species'].hist(bins=10)\n",
    "hist_target_label = df['Species'].value_counts()\n",
    "plt.xticks(rotation=90)"
   ]
  },
  {
   "cell_type": "code",
   "execution_count": 5,
   "id": "6879a783",
   "metadata": {},
   "outputs": [
    {
     "name": "stdout",
     "output_type": "stream",
     "text": [
      "<class 'pandas.core.frame.DataFrame'>\n",
      "RangeIndex: 344 entries, 0 to 343\n",
      "Data columns (total 17 columns):\n",
      " #   Column               Non-Null Count  Dtype  \n",
      "---  ------               --------------  -----  \n",
      " 0   studyName            344 non-null    object \n",
      " 1   Sample Number        344 non-null    int64  \n",
      " 2   Species              344 non-null    object \n",
      " 3   Region               344 non-null    object \n",
      " 4   Island               344 non-null    object \n",
      " 5   Stage                344 non-null    object \n",
      " 6   Individual ID        344 non-null    object \n",
      " 7   Clutch Completion    344 non-null    object \n",
      " 8   Date Egg             344 non-null    object \n",
      " 9   Culmen Length (mm)   342 non-null    float64\n",
      " 10  Culmen Depth (mm)    342 non-null    float64\n",
      " 11  Flipper Length (mm)  342 non-null    float64\n",
      " 12  Body Mass (g)        342 non-null    float64\n",
      " 13  Sex                  333 non-null    object \n",
      " 14  Delta 15 N (o/oo)    330 non-null    float64\n",
      " 15  Delta 13 C (o/oo)    331 non-null    float64\n",
      " 16  Comments             54 non-null     object \n",
      "dtypes: float64(6), int64(1), object(10)\n",
      "memory usage: 45.8+ KB\n"
     ]
    }
   ],
   "source": [
    "df.info()"
   ]
  },
  {
   "cell_type": "markdown",
   "id": "f0b67d01",
   "metadata": {},
   "source": [
    "<b>Showing the number of null values for each columns:</b>"
   ]
  },
  {
   "cell_type": "code",
   "execution_count": 6,
   "id": "e0d5508d",
   "metadata": {},
   "outputs": [
    {
     "data": {
      "text/plain": [
       "studyName                0\n",
       "Sample Number            0\n",
       "Species                  0\n",
       "Region                   0\n",
       "Island                   0\n",
       "Stage                    0\n",
       "Individual ID            0\n",
       "Clutch Completion        0\n",
       "Date Egg                 0\n",
       "Culmen Length (mm)       2\n",
       "Culmen Depth (mm)        2\n",
       "Flipper Length (mm)      2\n",
       "Body Mass (g)            2\n",
       "Sex                     11\n",
       "Delta 15 N (o/oo)       14\n",
       "Delta 13 C (o/oo)       13\n",
       "Comments               290\n",
       "dtype: int64"
      ]
     },
     "execution_count": 6,
     "metadata": {},
     "output_type": "execute_result"
    }
   ],
   "source": [
    "df.isnull().sum()"
   ]
  },
  {
   "cell_type": "code",
   "execution_count": 7,
   "id": "5ce119e7",
   "metadata": {},
   "outputs": [
    {
     "data": {
      "text/plain": [
       "0             Not enough blood for isotopes.\n",
       "1                                        NaN\n",
       "2                                        NaN\n",
       "3                         Adult not sampled.\n",
       "4                                        NaN\n",
       "                       ...                  \n",
       "339                                      NaN\n",
       "340    Nest never observed with full clutch.\n",
       "341    Nest never observed with full clutch.\n",
       "342                                      NaN\n",
       "343                                      NaN\n",
       "Name: Comments, Length: 344, dtype: object"
      ]
     },
     "execution_count": 7,
     "metadata": {},
     "output_type": "execute_result"
    }
   ],
   "source": [
    "df['Comments']"
   ]
  },
  {
   "cell_type": "code",
   "execution_count": 8,
   "id": "a4e0a82d",
   "metadata": {},
   "outputs": [],
   "source": [
    "df.drop(['Comments'], axis=1, inplace=True)"
   ]
  },
  {
   "cell_type": "markdown",
   "id": "dfd8b03b",
   "metadata": {},
   "source": [
    "<b>List of columns which are numerical (float, int)</b>"
   ]
  },
  {
   "cell_type": "code",
   "execution_count": 9,
   "id": "4068b323",
   "metadata": {},
   "outputs": [
    {
     "data": {
      "text/plain": [
       "['Sample Number',\n",
       " 'Culmen Length (mm)',\n",
       " 'Culmen Depth (mm)',\n",
       " 'Flipper Length (mm)',\n",
       " 'Body Mass (g)',\n",
       " 'Delta 15 N (o/oo)',\n",
       " 'Delta 13 C (o/oo)']"
      ]
     },
     "execution_count": 9,
     "metadata": {},
     "output_type": "execute_result"
    }
   ],
   "source": [
    "numerical_columns = [col for col in df.columns if df[col].dtype not in ['object']]\n",
    "numerical_columns"
   ]
  },
  {
   "cell_type": "markdown",
   "id": "92c03481",
   "metadata": {},
   "source": [
    "<b>List of columns which are categorical (object, string)</b>"
   ]
  },
  {
   "cell_type": "code",
   "execution_count": 10,
   "id": "c6bde2fc",
   "metadata": {},
   "outputs": [
    {
     "data": {
      "text/plain": [
       "['studyName',\n",
       " 'Species',\n",
       " 'Region',\n",
       " 'Island',\n",
       " 'Stage',\n",
       " 'Individual ID',\n",
       " 'Clutch Completion',\n",
       " 'Date Egg',\n",
       " 'Sex']"
      ]
     },
     "execution_count": 10,
     "metadata": {},
     "output_type": "execute_result"
    }
   ],
   "source": [
    "categorical_columns = [col for col in df.columns if df[col].dtype in ['object']]\n",
    "categorical_columns"
   ]
  },
  {
   "cell_type": "markdown",
   "id": "8c44b799",
   "metadata": {},
   "source": [
    "<b>Printing total number of unique values for each categorical columns:</b>"
   ]
  },
  {
   "cell_type": "code",
   "execution_count": 11,
   "id": "60a15f67",
   "metadata": {},
   "outputs": [
    {
     "name": "stdout",
     "output_type": "stream",
     "text": [
      "studyName has 3 unique values\n",
      "Species has 3 unique values\n",
      "Region has 1 unique values\n",
      "Island has 3 unique values\n",
      "Stage has 1 unique values\n",
      "Individual ID has 190 unique values\n",
      "Clutch Completion has 2 unique values\n",
      "Date Egg has 50 unique values\n",
      "Sex has 3 unique values\n"
     ]
    }
   ],
   "source": [
    "for item in categorical_columns:\n",
    "    print(f'{item} has {len(df[item].unique())} unique values')"
   ]
  },
  {
   "cell_type": "code",
   "execution_count": 12,
   "id": "e1d090f4",
   "metadata": {},
   "outputs": [
    {
     "data": {
      "text/plain": [
       "array(['PAL0708', 'PAL0809', 'PAL0910'], dtype=object)"
      ]
     },
     "execution_count": 12,
     "metadata": {},
     "output_type": "execute_result"
    }
   ],
   "source": [
    "df['studyName'].unique()"
   ]
  },
  {
   "cell_type": "code",
   "execution_count": 13,
   "id": "151bc1d2",
   "metadata": {},
   "outputs": [
    {
     "data": {
      "text/plain": [
       "0      2007-11-11\n",
       "1      2007-11-11\n",
       "2      2007-11-16\n",
       "3      2007-11-16\n",
       "4      2007-11-16\n",
       "          ...    \n",
       "339    2009-11-19\n",
       "340    2009-11-21\n",
       "341    2009-11-21\n",
       "342    2009-11-21\n",
       "343    2009-11-21\n",
       "Name: Date Egg, Length: 344, dtype: object"
      ]
     },
     "execution_count": 13,
     "metadata": {},
     "output_type": "execute_result"
    }
   ],
   "source": [
    "df['Date Egg']"
   ]
  },
  {
   "cell_type": "code",
   "execution_count": 14,
   "id": "66e9ed50",
   "metadata": {},
   "outputs": [
    {
     "data": {
      "text/plain": [
       "0        N1A1\n",
       "1        N1A2\n",
       "2        N2A1\n",
       "3        N2A2\n",
       "4        N3A1\n",
       "        ...  \n",
       "339     N98A2\n",
       "340     N99A1\n",
       "341     N99A2\n",
       "342    N100A1\n",
       "343    N100A2\n",
       "Name: Individual ID, Length: 344, dtype: object"
      ]
     },
     "execution_count": 14,
     "metadata": {},
     "output_type": "execute_result"
    }
   ],
   "source": [
    "df['Individual ID']"
   ]
  },
  {
   "cell_type": "markdown",
   "id": "76cadba7",
   "metadata": {},
   "source": [
    "<b>Printing all the unique values for each categorical columns:</b>"
   ]
  },
  {
   "cell_type": "code",
   "execution_count": 15,
   "id": "679c96c8",
   "metadata": {},
   "outputs": [
    {
     "name": "stdout",
     "output_type": "stream",
     "text": [
      "-studyName has 3 unique values.\n",
      "['PAL0708' 'PAL0809' 'PAL0910']\n",
      "\n",
      "\n",
      "-Species has 3 unique values.\n",
      "['Adelie Penguin (Pygoscelis adeliae)' 'Gentoo penguin (Pygoscelis papua)'\n",
      " 'Chinstrap penguin (Pygoscelis antarctica)']\n",
      "\n",
      "\n",
      "-Region has 1 unique values.\n",
      "['Anvers']\n",
      "\n",
      "\n",
      "-Island has 3 unique values.\n",
      "['Torgersen' 'Biscoe' 'Dream']\n",
      "\n",
      "\n",
      "-Stage has 1 unique values.\n",
      "['Adult, 1 Egg Stage']\n",
      "\n",
      "\n",
      "-Individual ID has 190 unique values.\n",
      "['N1A1' 'N1A2' 'N2A1' 'N2A2' 'N3A1' 'N3A2' 'N4A1' 'N4A2' 'N5A1' 'N5A2'\n",
      " 'N6A1' 'N6A2' 'N7A1' 'N7A2' 'N8A1' 'N8A2' 'N9A1' 'N9A2' 'N10A1' 'N10A2'\n",
      " 'N11A1' 'N11A2' 'N12A1' 'N12A2' 'N13A1' 'N13A2' 'N17A1' 'N17A2' 'N18A1'\n",
      " 'N18A2' 'N21A1' 'N21A2' 'N22A1' 'N22A2' 'N23A1' 'N23A2' 'N24A1' 'N24A2'\n",
      " 'N25A1' 'N25A2' 'N26A1' 'N26A2' 'N27A1' 'N27A2' 'N28A1' 'N28A2' 'N29A1'\n",
      " 'N29A2' 'N30A1' 'N30A2' 'N32A1' 'N32A2' 'N34A1' 'N34A2' 'N35A1' 'N35A2'\n",
      " 'N36A1' 'N36A2' 'N37A1' 'N37A2' 'N38A1' 'N38A2' 'N39A1' 'N39A2' 'N40A1'\n",
      " 'N40A2' 'N41A1' 'N41A2' 'N42A1' 'N42A2' 'N44A1' 'N44A2' 'N45A1' 'N45A2'\n",
      " 'N46A1' 'N46A2' 'N48A1' 'N48A2' 'N49A1' 'N49A2' 'N50A1' 'N50A2' 'N47A1'\n",
      " 'N47A2' 'N51A1' 'N51A2' 'N53A1' 'N53A2' 'N55A1' 'N55A2' 'N58A1' 'N58A2'\n",
      " 'N60A1' 'N60A2' 'N61A1' 'N61A2' 'N63A1' 'N63A2' 'N64A1' 'N64A2' 'N66A1'\n",
      " 'N66A2' 'N67A1' 'N67A2' 'N69A1' 'N69A2' 'N71A1' 'N71A2' 'N72A1' 'N72A2'\n",
      " 'N73A1' 'N73A2' 'N76A1' 'N76A2' 'N77A1' 'N77A2' 'N78A1' 'N78A2' 'N79A1'\n",
      " 'N79A2' 'N80A1' 'N80A2' 'N81A1' 'N81A2' 'N82A1' 'N82A2' 'N83A1' 'N83A2'\n",
      " 'N84A1' 'N84A2' 'N85A1' 'N85A2' 'N31A1' 'N31A2' 'N33A1' 'N33A2' 'N56A1'\n",
      " 'N56A2' 'N14A1' 'N14A2' 'N15A1' 'N15A2' 'N16A1' 'N16A2' 'N19A1' 'N19A2'\n",
      " 'N20A1' 'N20A2' 'N54A1' 'N54A2' 'N43A1' 'N43A2' 'N62A1' 'N62A2' 'N68A1'\n",
      " 'N68A2' 'N70A1' 'N70A2' 'N89A1' 'N89A2' 'N65A1' 'N65A2' 'N74A1' 'N74A2'\n",
      " 'N75A1' 'N75A2' 'N86A1' 'N86A2' 'N87A1' 'N87A2' 'N88A1' 'N88A2' 'N90A1'\n",
      " 'N90A2' 'N92A1' 'N92A2' 'N93A1' 'N93A2' 'N94A1' 'N94A2' 'N95A1' 'N95A2'\n",
      " 'N96A1' 'N96A2' 'N98A1' 'N98A2' 'N99A1' 'N99A2' 'N100A1' 'N100A2']\n",
      "\n",
      "\n",
      "-Clutch Completion has 2 unique values.\n",
      "['Yes' 'No']\n",
      "\n",
      "\n",
      "-Date Egg has 50 unique values.\n",
      "['2007-11-11' '2007-11-16' '2007-11-15' '2007-11-09' '2007-11-12'\n",
      " '2007-11-10' '2007-11-13' '2007-11-19' '2008-11-06' '2008-11-09'\n",
      " '2008-11-15' '2008-11-13' '2008-11-11' '2008-11-14' '2008-11-08'\n",
      " '2008-11-02' '2008-11-07' '2008-11-17' '2008-11-05' '2008-11-10'\n",
      " '2009-11-09' '2009-11-15' '2009-11-20' '2009-11-12' '2009-11-17'\n",
      " '2009-11-18' '2009-11-22' '2009-11-16' '2009-11-21' '2009-11-23'\n",
      " '2009-11-10' '2009-11-13' '2009-11-14' '2007-11-27' '2007-11-18'\n",
      " '2007-11-29' '2007-12-03' '2008-11-04' '2008-11-03' '2009-11-25'\n",
      " '2009-12-01' '2009-11-27' '2007-11-26' '2007-11-21' '2007-11-28'\n",
      " '2007-11-22' '2007-11-30' '2008-11-25' '2008-11-24' '2009-11-19']\n",
      "\n",
      "\n",
      "-Sex has 3 unique values.\n",
      "['MALE' 'FEMALE' nan]\n",
      "\n",
      "\n"
     ]
    }
   ],
   "source": [
    "for item in categorical_columns:\n",
    "    print(f'-{item} has {len(df[item].unique())} unique values.')\n",
    "    print(f'{df[item].unique()}')     \n",
    "    print('\\n')"
   ]
  },
  {
   "cell_type": "markdown",
   "id": "63d352df",
   "metadata": {},
   "source": [
    "<b>Investigating the 'Individual ID' and 'Date Egg' columns</b>"
   ]
  },
  {
   "cell_type": "code",
   "execution_count": 16,
   "id": "06920728",
   "metadata": {},
   "outputs": [
    {
     "data": {
      "text/plain": [
       "count       344\n",
       "unique      190\n",
       "top       N36A1\n",
       "freq          3\n",
       "Name: Individual ID, dtype: object"
      ]
     },
     "execution_count": 16,
     "metadata": {},
     "output_type": "execute_result"
    }
   ],
   "source": [
    "df['Individual ID'].describe()"
   ]
  },
  {
   "cell_type": "code",
   "execution_count": 17,
   "id": "f36c63e9",
   "metadata": {},
   "outputs": [
    {
     "data": {
      "text/plain": [
       "N36A1    3\n",
       "N69A1    3\n",
       "N22A1    3\n",
       "N35A1    3\n",
       "N8A1     3\n",
       "        ..\n",
       "N76A2    1\n",
       "N98A1    1\n",
       "N99A1    1\n",
       "N3A2     1\n",
       "N82A2    1\n",
       "Name: Individual ID, Length: 190, dtype: int64"
      ]
     },
     "execution_count": 17,
     "metadata": {},
     "output_type": "execute_result"
    }
   ],
   "source": [
    "df['Individual ID'].value_counts()"
   ]
  },
  {
   "cell_type": "code",
   "execution_count": 18,
   "id": "7ffccc23",
   "metadata": {},
   "outputs": [
    {
     "data": {
      "text/plain": [
       "count            344\n",
       "unique            50\n",
       "top       2007-11-27\n",
       "freq              18\n",
       "Name: Date Egg, dtype: object"
      ]
     },
     "execution_count": 18,
     "metadata": {},
     "output_type": "execute_result"
    }
   ],
   "source": [
    "df['Date Egg'].describe()"
   ]
  },
  {
   "cell_type": "markdown",
   "id": "79ef6745",
   "metadata": {},
   "source": [
    "Will drop 'Date Egg' but will keep 'Individual ID' because I am assuming that Individual ID depends on the type of penguins. Maybe the individual ID might have identifiers which may corresponding on which type of penguin it would refer to."
   ]
  },
  {
   "cell_type": "markdown",
   "id": "73c70648",
   "metadata": {},
   "source": [
    "<b>Dropping 'Date Egg'</b>"
   ]
  },
  {
   "cell_type": "code",
   "execution_count": 19,
   "id": "11896348",
   "metadata": {},
   "outputs": [],
   "source": [
    "df.drop('Date Egg', axis=1, inplace= True)"
   ]
  },
  {
   "cell_type": "markdown",
   "id": "8eee7d0a",
   "metadata": {},
   "source": [
    "<b>New list of columns which are categorical (object, string)</b>"
   ]
  },
  {
   "cell_type": "code",
   "execution_count": 20,
   "id": "febf21fe",
   "metadata": {},
   "outputs": [
    {
     "data": {
      "text/plain": [
       "['studyName',\n",
       " 'Species',\n",
       " 'Region',\n",
       " 'Island',\n",
       " 'Stage',\n",
       " 'Individual ID',\n",
       " 'Clutch Completion',\n",
       " 'Sex']"
      ]
     },
     "execution_count": 20,
     "metadata": {},
     "output_type": "execute_result"
    }
   ],
   "source": [
    "categorical_columns = [col for col in df.columns if df[col].dtype in ['object']]\n",
    "categorical_columns"
   ]
  },
  {
   "cell_type": "markdown",
   "id": "ebedb84d",
   "metadata": {},
   "source": [
    "<b>Showing the frequency distribution of each categorical columns:</b>"
   ]
  },
  {
   "cell_type": "markdown",
   "id": "1dbc7281",
   "metadata": {},
   "source": [
    "'studyName' Column:"
   ]
  },
  {
   "cell_type": "code",
   "execution_count": 21,
   "id": "2d1c99f7",
   "metadata": {},
   "outputs": [
    {
     "data": {
      "image/png": "[encoded data removed]",
      "text/plain": [
       "<Figure size 432x288 with 1 Axes>"
      ]
     },
     "metadata": {
      "needs_background": "light"
     },
     "output_type": "display_data"
    }
   ],
   "source": [
    "hist1 = df['studyName'].hist(bins=10)"
   ]
  },
  {
   "cell_type": "markdown",
   "id": "e3c6618c",
   "metadata": {},
   "source": [
    "'Species' Column (Target Label):"
   ]
  },
  {
   "cell_type": "code",
   "execution_count": 22,
   "id": "bb8b1c14",
   "metadata": {},
   "outputs": [
    {
     "data": {
      "text/plain": [
       "([0, 1, 2], [Text(0, 0, ''), Text(0, 0, ''), Text(0, 0, '')])"
      ]
     },
     "execution_count": 22,
     "metadata": {},
     "output_type": "execute_result"
    },
    {
     "data": {
      "image/png": "[encoded data removed]",
      "text/plain": [
       "<Figure size 432x288 with 1 Axes>"
      ]
     },
     "metadata": {
      "needs_background": "light"
     },
     "output_type": "display_data"
    }
   ],
   "source": [
    "hist2 = df['Species'].hist(bins=10)\n",
    "plt.xticks(rotation=90)"
   ]
  },
  {
   "cell_type": "markdown",
   "id": "ce4b5e6f",
   "metadata": {},
   "source": [
    "'Region' Column:"
   ]
  },
  {
   "cell_type": "code",
   "execution_count": 23,
   "id": "904e0f99",
   "metadata": {},
   "outputs": [
    {
     "name": "stdout",
     "output_type": "stream",
     "text": [
      "['Anvers']\n",
      "344\n"
     ]
    },
    {
     "data": {
      "image/png": "[encoded data removed]",
      "text/plain": [
       "<Figure size 432x288 with 1 Axes>"
      ]
     },
     "metadata": {
      "needs_background": "light"
     },
     "output_type": "display_data"
    }
   ],
   "source": [
    "hist3 = df['Region'].hist(bins=10)\n",
    "print(df['Region'].unique())\n",
    "print(df['Region'].count())"
   ]
  },
  {
   "cell_type": "markdown",
   "id": "18af3185",
   "metadata": {},
   "source": [
    "We can see that all the penguins come from the Anvers region. Therefore this column can be dropped for the puporse of identifying the penguins."
   ]
  },
  {
   "cell_type": "code",
   "execution_count": 24,
   "id": "3fdaf2e8",
   "metadata": {},
   "outputs": [],
   "source": [
    "df.drop('Region', axis = 1, inplace = True)"
   ]
  },
  {
   "cell_type": "code",
   "execution_count": 25,
   "id": "d1100607",
   "metadata": {},
   "outputs": [
    {
     "data": {
      "text/plain": [
       "['studyName',\n",
       " 'Species',\n",
       " 'Island',\n",
       " 'Stage',\n",
       " 'Individual ID',\n",
       " 'Clutch Completion',\n",
       " 'Sex']"
      ]
     },
     "execution_count": 25,
     "metadata": {},
     "output_type": "execute_result"
    }
   ],
   "source": [
    "#New list of columns which are categorical (object, string):\n",
    "\n",
    "categorical_columns = [col for col in df.columns if df[col].dtype in ['object']]\n",
    "categorical_columns"
   ]
  },
  {
   "cell_type": "markdown",
   "id": "dbf80083",
   "metadata": {},
   "source": [
    "'Island' Column:"
   ]
  },
  {
   "cell_type": "code",
   "execution_count": 26,
   "id": "97ddf05d",
   "metadata": {},
   "outputs": [
    {
     "data": {
      "image/png": "[encoded data removed]",
      "text/plain": [
       "<Figure size 432x288 with 1 Axes>"
      ]
     },
     "metadata": {
      "needs_background": "light"
     },
     "output_type": "display_data"
    }
   ],
   "source": [
    "hist4 = df['Island'].hist(bins=10)"
   ]
  },
  {
   "cell_type": "markdown",
   "id": "b357b096",
   "metadata": {},
   "source": [
    "'Stage' Column:"
   ]
  },
  {
   "cell_type": "code",
   "execution_count": 27,
   "id": "9b4c745f",
   "metadata": {},
   "outputs": [
    {
     "data": {
      "text/plain": [
       "array(['Adult, 1 Egg Stage'], dtype=object)"
      ]
     },
     "execution_count": 27,
     "metadata": {},
     "output_type": "execute_result"
    },
    {
     "data": {
      "image/png": "[encoded data removed]",
      "text/plain": [
       "<Figure size 432x288 with 1 Axes>"
      ]
     },
     "metadata": {
      "needs_background": "light"
     },
     "output_type": "display_data"
    }
   ],
   "source": [
    "hist5 = df['Stage'].hist(bins=10)\n",
    "df['Stage'].unique()"
   ]
  },
  {
   "cell_type": "code",
   "execution_count": 28,
   "id": "8325b170",
   "metadata": {},
   "outputs": [
    {
     "data": {
      "text/plain": [
       "Adult, 1 Egg Stage    344\n",
       "Name: Stage, dtype: int64"
      ]
     },
     "execution_count": 28,
     "metadata": {},
     "output_type": "execute_result"
    }
   ],
   "source": [
    "df['Stage'].value_counts()"
   ]
  },
  {
   "cell_type": "markdown",
   "id": "9c76820b",
   "metadata": {},
   "source": [
    "We can see that only 1 penguin come from the Adult stage, while all other 344 penguins come from the Egg stage. So we may drop this column since it is a highly skwed column."
   ]
  },
  {
   "cell_type": "code",
   "execution_count": 29,
   "id": "3351293d",
   "metadata": {},
   "outputs": [],
   "source": [
    "df.drop('Stage', axis=1, inplace=True)"
   ]
  },
  {
   "cell_type": "code",
   "execution_count": 30,
   "id": "d11242e3",
   "metadata": {},
   "outputs": [
    {
     "data": {
      "text/plain": [
       "['studyName', 'Species', 'Island', 'Individual ID', 'Clutch Completion', 'Sex']"
      ]
     },
     "execution_count": 30,
     "metadata": {},
     "output_type": "execute_result"
    }
   ],
   "source": [
    "#New list of columns which are categorical (object, string):\n",
    "\n",
    "categorical_columns = [col for col in df.columns if df[col].dtype in ['object']]\n",
    "categorical_columns"
   ]
  },
  {
   "cell_type": "markdown",
   "id": "6e08511c",
   "metadata": {},
   "source": [
    "'Individual ID' Column:"
   ]
  },
  {
   "cell_type": "code",
   "execution_count": 31,
   "id": "a7e71298",
   "metadata": {},
   "outputs": [
    {
     "data": {
      "text/plain": [
       "N36A1    3\n",
       "N69A1    3\n",
       "N22A1    3\n",
       "N35A1    3\n",
       "N8A1     3\n",
       "        ..\n",
       "N76A2    1\n",
       "N98A1    1\n",
       "N99A1    1\n",
       "N3A2     1\n",
       "N82A2    1\n",
       "Name: Individual ID, Length: 190, dtype: int64"
      ]
     },
     "execution_count": 31,
     "metadata": {},
     "output_type": "execute_result"
    }
   ],
   "source": [
    "#Here we do not show the frequency distribution in a graph because there are over 190 unique Individual IDs\n",
    "\n",
    "df['Individual ID'].value_counts()"
   ]
  },
  {
   "cell_type": "markdown",
   "id": "4047f9e7",
   "metadata": {},
   "source": [
    "'Clutch Completion' Column:"
   ]
  },
  {
   "cell_type": "code",
   "execution_count": 32,
   "id": "bd810a6e",
   "metadata": {},
   "outputs": [
    {
     "data": {
      "image/png": "[encoded data removed]",
      "text/plain": [
       "<Figure size 432x288 with 1 Axes>"
      ]
     },
     "metadata": {
      "needs_background": "light"
     },
     "output_type": "display_data"
    }
   ],
   "source": [
    "hist6 = df['Clutch Completion'].hist(bins=10)"
   ]
  },
  {
   "cell_type": "markdown",
   "id": "312b6085",
   "metadata": {},
   "source": [
    "'Sex' Column:"
   ]
  },
  {
   "cell_type": "code",
   "execution_count": 33,
   "id": "25588ce8",
   "metadata": {},
   "outputs": [
    {
     "data": {
      "image/png": "[encoded data removed]",
      "text/plain": [
       "<Figure size 432x288 with 1 Axes>"
      ]
     },
     "metadata": {
      "needs_background": "light"
     },
     "output_type": "display_data"
    }
   ],
   "source": [
    "hist7 = df['Sex'].hist(bins=10)"
   ]
  },
  {
   "cell_type": "markdown",
   "id": "9b865451",
   "metadata": {},
   "source": [
    "<b>Working on rows with null values:</b>"
   ]
  },
  {
   "cell_type": "code",
   "execution_count": 34,
   "id": "0001cb7e",
   "metadata": {},
   "outputs": [
    {
     "data": {
      "text/plain": [
       "studyName               0\n",
       "Sample Number           0\n",
       "Species                 0\n",
       "Island                  0\n",
       "Individual ID           0\n",
       "Clutch Completion       0\n",
       "Culmen Length (mm)      2\n",
       "Culmen Depth (mm)       2\n",
       "Flipper Length (mm)     2\n",
       "Body Mass (g)           2\n",
       "Sex                    11\n",
       "Delta 15 N (o/oo)      14\n",
       "Delta 13 C (o/oo)      13\n",
       "dtype: int64"
      ]
     },
     "execution_count": 34,
     "metadata": {},
     "output_type": "execute_result"
    }
   ],
   "source": [
    "#Checking the number of rows which have null values for each columns:\n",
    "\n",
    "df.isnull().sum()"
   ]
  },
  {
   "cell_type": "markdown",
   "id": "1652334f",
   "metadata": {},
   "source": [
    "Dropping the rows which have null values in the 'Sex' Column:"
   ]
  },
  {
   "cell_type": "code",
   "execution_count": 35,
   "id": "7c774a6c",
   "metadata": {},
   "outputs": [],
   "source": [
    "df.dropna(subset= ['Sex'], inplace= True)"
   ]
  },
  {
   "cell_type": "code",
   "execution_count": 36,
   "id": "429327fc",
   "metadata": {},
   "outputs": [
    {
     "data": {
      "text/plain": [
       "studyName              0\n",
       "Sample Number          0\n",
       "Species                0\n",
       "Island                 0\n",
       "Individual ID          0\n",
       "Clutch Completion      0\n",
       "Culmen Length (mm)     0\n",
       "Culmen Depth (mm)      0\n",
       "Flipper Length (mm)    0\n",
       "Body Mass (g)          0\n",
       "Sex                    0\n",
       "Delta 15 N (o/oo)      9\n",
       "Delta 13 C (o/oo)      8\n",
       "dtype: int64"
      ]
     },
     "execution_count": 36,
     "metadata": {},
     "output_type": "execute_result"
    }
   ],
   "source": [
    "#Checking the number of null values for each columns again:\n",
    "\n",
    "df.isnull().sum()"
   ]
  },
  {
   "cell_type": "code",
   "execution_count": 37,
   "id": "41fb60f1",
   "metadata": {},
   "outputs": [
    {
     "data": {
      "text/plain": [
       "count    324.000000\n",
       "mean       8.739944\n",
       "std        0.552073\n",
       "min        7.632200\n",
       "25%        8.304440\n",
       "50%        8.658585\n",
       "75%        9.181477\n",
       "max       10.025440\n",
       "Name: Delta 15 N (o/oo), dtype: float64"
      ]
     },
     "execution_count": 37,
     "metadata": {},
     "output_type": "execute_result"
    }
   ],
   "source": [
    "df['Delta 15 N (o/oo)'].describe()"
   ]
  },
  {
   "cell_type": "markdown",
   "id": "410fc1fd",
   "metadata": {},
   "source": [
    "Standard deviation of 'Delta 15 N (o/oo)' is very small. Therefore we can replace the missing values with the mean."
   ]
  },
  {
   "cell_type": "code",
   "execution_count": 38,
   "id": "313dbbf3",
   "metadata": {},
   "outputs": [],
   "source": [
    "df['Delta 15 N (o/oo)'].fillna(value=df['Delta 15 N (o/oo)'].mean(), inplace=True)"
   ]
  },
  {
   "cell_type": "code",
   "execution_count": 39,
   "id": "ed413299",
   "metadata": {},
   "outputs": [
    {
     "data": {
      "text/plain": [
       "count    325.000000\n",
       "mean     -25.682842\n",
       "std        0.796629\n",
       "min      -27.018540\n",
       "25%      -26.326010\n",
       "50%      -25.833520\n",
       "75%      -25.041690\n",
       "max      -23.787670\n",
       "Name: Delta 13 C (o/oo), dtype: float64"
      ]
     },
     "execution_count": 39,
     "metadata": {},
     "output_type": "execute_result"
    }
   ],
   "source": [
    "df['Delta 13 C (o/oo)'].describe()"
   ]
  },
  {
   "cell_type": "markdown",
   "id": "3c9c975d",
   "metadata": {},
   "source": [
    "Again, Standard deviation of 'Delta 13 C (o/oo)' is very small. Therefore we can replace the missing values with the mean."
   ]
  },
  {
   "cell_type": "code",
   "execution_count": 40,
   "id": "d6e123b0",
   "metadata": {},
   "outputs": [],
   "source": [
    "df['Delta 13 C (o/oo)'].fillna(value=df['Delta 13 C (o/oo)'].mean(), inplace=True)"
   ]
  },
  {
   "cell_type": "code",
   "execution_count": 41,
   "id": "59e729ee",
   "metadata": {},
   "outputs": [
    {
     "data": {
      "text/plain": [
       "studyName              0\n",
       "Sample Number          0\n",
       "Species                0\n",
       "Island                 0\n",
       "Individual ID          0\n",
       "Clutch Completion      0\n",
       "Culmen Length (mm)     0\n",
       "Culmen Depth (mm)      0\n",
       "Flipper Length (mm)    0\n",
       "Body Mass (g)          0\n",
       "Sex                    0\n",
       "Delta 15 N (o/oo)      0\n",
       "Delta 13 C (o/oo)      0\n",
       "dtype: int64"
      ]
     },
     "execution_count": 41,
     "metadata": {},
     "output_type": "execute_result"
    }
   ],
   "source": [
    "#finally, our dataset does not have any missing values\n",
    "\n",
    "df.isnull().sum()"
   ]
  },
  {
   "cell_type": "markdown",
   "id": "4ef627aa",
   "metadata": {},
   "source": [
    "<b>Encoding catagorical data</b>"
   ]
  },
  {
   "cell_type": "markdown",
   "id": "c4a00ca1",
   "metadata": {},
   "source": [
    "We will encode the 'Individual ID' column with label encoding because it has many unique values, while other categorical columns would be encoded with one hot encoding"
   ]
  },
  {
   "cell_type": "code",
   "execution_count": 42,
   "id": "59fb22ea",
   "metadata": {},
   "outputs": [
    {
     "data": {
      "text/plain": [
       "['studyName', 'Species', 'Island', 'Individual ID', 'Clutch Completion', 'Sex']"
      ]
     },
     "execution_count": 42,
     "metadata": {},
     "output_type": "execute_result"
    }
   ],
   "source": [
    "categorical_columns = [col for col in df.columns if df[col].dtype in ['object']]\n",
    "categorical_columns"
   ]
  },
  {
   "cell_type": "code",
   "execution_count": 43,
   "id": "bc26e22f",
   "metadata": {},
   "outputs": [
    {
     "data": {
      "text/plain": [
       "(333, 13)"
      ]
     },
     "execution_count": 43,
     "metadata": {},
     "output_type": "execute_result"
    }
   ],
   "source": [
    "df.shape"
   ]
  },
  {
   "cell_type": "code",
   "execution_count": 44,
   "id": "abf870fb",
   "metadata": {},
   "outputs": [],
   "source": [
    "from sklearn.preprocessing import LabelEncoder\n",
    "enc = LabelEncoder()"
   ]
  },
  {
   "cell_type": "code",
   "execution_count": 45,
   "id": "2faeaa87",
   "metadata": {},
   "outputs": [
    {
     "data": {
      "text/plain": [
       "0       22\n",
       "1       23\n",
       "2       44\n",
       "4       66\n",
       "5       67\n",
       "      ... \n",
       "339    185\n",
       "340    186\n",
       "341    187\n",
       "342      0\n",
       "343      1\n",
       "Name: Individual ID_Label_encoded, Length: 333, dtype: int32"
      ]
     },
     "execution_count": 45,
     "metadata": {},
     "output_type": "execute_result"
    }
   ],
   "source": [
    "df['Individual ID_Label_encoded'] = enc.fit_transform(df['Individual ID'])\n",
    "df['Individual ID_Label_encoded']"
   ]
  },
  {
   "cell_type": "code",
   "execution_count": 46,
   "id": "8d803bf6",
   "metadata": {},
   "outputs": [
    {
     "data": {
      "text/plain": [
       "(333, 14)"
      ]
     },
     "execution_count": 46,
     "metadata": {},
     "output_type": "execute_result"
    }
   ],
   "source": [
    "df.shape"
   ]
  },
  {
   "cell_type": "code",
   "execution_count": 47,
   "id": "8a035b3c",
   "metadata": {},
   "outputs": [],
   "source": [
    "df.drop('Individual ID',axis=1, inplace=True)"
   ]
  },
  {
   "cell_type": "code",
   "execution_count": 48,
   "id": "8bfee469",
   "metadata": {},
   "outputs": [
    {
     "data": {
      "text/plain": [
       "(333, 13)"
      ]
     },
     "execution_count": 48,
     "metadata": {},
     "output_type": "execute_result"
    }
   ],
   "source": [
    "df.shape"
   ]
  },
  {
   "cell_type": "code",
   "execution_count": 49,
   "id": "235a3092",
   "metadata": {},
   "outputs": [
    {
     "data": {
      "text/plain": [
       "array([0, 2, 1])"
      ]
     },
     "execution_count": 49,
     "metadata": {},
     "output_type": "execute_result"
    }
   ],
   "source": [
    "df['Species_encoded'] = enc.fit_transform(df['Species'])\n",
    "df['Species_encoded'].unique()"
   ]
  },
  {
   "cell_type": "code",
   "execution_count": 50,
   "id": "e4b13814",
   "metadata": {},
   "outputs": [
    {
     "data": {
      "text/plain": [
       "(333, 14)"
      ]
     },
     "execution_count": 50,
     "metadata": {},
     "output_type": "execute_result"
    }
   ],
   "source": [
    "df.shape"
   ]
  },
  {
   "cell_type": "code",
   "execution_count": 51,
   "id": "5cad220f",
   "metadata": {},
   "outputs": [],
   "source": [
    "df.drop('Species',axis=1, inplace=True)"
   ]
  },
  {
   "cell_type": "code",
   "execution_count": 52,
   "id": "c63c5354",
   "metadata": {},
   "outputs": [
    {
     "data": {
      "text/plain": [
       "(333, 13)"
      ]
     },
     "execution_count": 52,
     "metadata": {},
     "output_type": "execute_result"
    }
   ],
   "source": [
    "df.shape"
   ]
  },
  {
   "cell_type": "code",
   "execution_count": 53,
   "id": "cacc85ed",
   "metadata": {},
   "outputs": [
    {
     "data": {
      "text/plain": [
       "['studyName', 'Species', 'Island', 'Individual ID', 'Clutch Completion', 'Sex']"
      ]
     },
     "execution_count": 53,
     "metadata": {},
     "output_type": "execute_result"
    }
   ],
   "source": [
    "categorical_columns"
   ]
  },
  {
   "cell_type": "code",
   "execution_count": 54,
   "id": "f2ac4416",
   "metadata": {},
   "outputs": [],
   "source": [
    "categorical_columns.remove('Individual ID')\n",
    "categorical_columns.remove('Species')"
   ]
  },
  {
   "cell_type": "code",
   "execution_count": 55,
   "id": "291dbbc0",
   "metadata": {},
   "outputs": [
    {
     "data": {
      "text/plain": [
       "['studyName', 'Island', 'Clutch Completion', 'Sex']"
      ]
     },
     "execution_count": 55,
     "metadata": {},
     "output_type": "execute_result"
    }
   ],
   "source": [
    "categorical_columns"
   ]
  },
  {
   "cell_type": "markdown",
   "id": "9e69ef01",
   "metadata": {},
   "source": [
    "DF2 is the dataset after dealing with both onehot and label encoding:"
   ]
  },
  {
   "cell_type": "code",
   "execution_count": 56,
   "id": "5ce147b7",
   "metadata": {},
   "outputs": [
    {
     "data": {
      "text/html": [
       "<div>\n",
       "<style scoped>\n",
       "    .dataframe tbody tr th:only-of-type {\n",
       "        vertical-align: middle;\n",
       "    }\n",
       "\n",
       "    .dataframe tbody tr th {\n",
       "        vertical-align: top;\n",
       "    }\n",
       "\n",
       "    .dataframe thead th {\n",
       "        text-align: right;\n",
       "    }\n",
       "</style>\n",
       "<table border=\"1\" class=\"dataframe\">\n",
       "  <thead>\n",
       "    <tr style=\"text-align: right;\">\n",
       "      <th></th>\n",
       "      <th>Sample Number</th>\n",
       "      <th>Culmen Length (mm)</th>\n",
       "      <th>Culmen Depth (mm)</th>\n",
       "      <th>Flipper Length (mm)</th>\n",
       "      <th>Body Mass (g)</th>\n",
       "      <th>Delta 15 N (o/oo)</th>\n",
       "      <th>Delta 13 C (o/oo)</th>\n",
       "      <th>Individual ID_Label_encoded</th>\n",
       "      <th>Species_encoded</th>\n",
       "      <th>studyName_PAL0708</th>\n",
       "      <th>studyName_PAL0809</th>\n",
       "      <th>studyName_PAL0910</th>\n",
       "      <th>Island_Biscoe</th>\n",
       "      <th>Island_Dream</th>\n",
       "      <th>Island_Torgersen</th>\n",
       "      <th>Clutch Completion_No</th>\n",
       "      <th>Clutch Completion_Yes</th>\n",
       "      <th>Sex_FEMALE</th>\n",
       "      <th>Sex_MALE</th>\n",
       "    </tr>\n",
       "  </thead>\n",
       "  <tbody>\n",
       "    <tr>\n",
       "      <th>0</th>\n",
       "      <td>1</td>\n",
       "      <td>39.1</td>\n",
       "      <td>18.7</td>\n",
       "      <td>181.0</td>\n",
       "      <td>3750.0</td>\n",
       "      <td>8.739944</td>\n",
       "      <td>-25.682842</td>\n",
       "      <td>22</td>\n",
       "      <td>0</td>\n",
       "      <td>1</td>\n",
       "      <td>0</td>\n",
       "      <td>0</td>\n",
       "      <td>0</td>\n",
       "      <td>0</td>\n",
       "      <td>1</td>\n",
       "      <td>0</td>\n",
       "      <td>1</td>\n",
       "      <td>0</td>\n",
       "      <td>1</td>\n",
       "    </tr>\n",
       "    <tr>\n",
       "      <th>1</th>\n",
       "      <td>2</td>\n",
       "      <td>39.5</td>\n",
       "      <td>17.4</td>\n",
       "      <td>186.0</td>\n",
       "      <td>3800.0</td>\n",
       "      <td>8.949560</td>\n",
       "      <td>-24.694540</td>\n",
       "      <td>23</td>\n",
       "      <td>0</td>\n",
       "      <td>1</td>\n",
       "      <td>0</td>\n",
       "      <td>0</td>\n",
       "      <td>0</td>\n",
       "      <td>0</td>\n",
       "      <td>1</td>\n",
       "      <td>0</td>\n",
       "      <td>1</td>\n",
       "      <td>1</td>\n",
       "      <td>0</td>\n",
       "    </tr>\n",
       "    <tr>\n",
       "      <th>2</th>\n",
       "      <td>3</td>\n",
       "      <td>40.3</td>\n",
       "      <td>18.0</td>\n",
       "      <td>195.0</td>\n",
       "      <td>3250.0</td>\n",
       "      <td>8.368210</td>\n",
       "      <td>-25.333020</td>\n",
       "      <td>44</td>\n",
       "      <td>0</td>\n",
       "      <td>1</td>\n",
       "      <td>0</td>\n",
       "      <td>0</td>\n",
       "      <td>0</td>\n",
       "      <td>0</td>\n",
       "      <td>1</td>\n",
       "      <td>0</td>\n",
       "      <td>1</td>\n",
       "      <td>1</td>\n",
       "      <td>0</td>\n",
       "    </tr>\n",
       "    <tr>\n",
       "      <th>4</th>\n",
       "      <td>5</td>\n",
       "      <td>36.7</td>\n",
       "      <td>19.3</td>\n",
       "      <td>193.0</td>\n",
       "      <td>3450.0</td>\n",
       "      <td>8.766510</td>\n",
       "      <td>-25.324260</td>\n",
       "      <td>66</td>\n",
       "      <td>0</td>\n",
       "      <td>1</td>\n",
       "      <td>0</td>\n",
       "      <td>0</td>\n",
       "      <td>0</td>\n",
       "      <td>0</td>\n",
       "      <td>1</td>\n",
       "      <td>0</td>\n",
       "      <td>1</td>\n",
       "      <td>1</td>\n",
       "      <td>0</td>\n",
       "    </tr>\n",
       "    <tr>\n",
       "      <th>5</th>\n",
       "      <td>6</td>\n",
       "      <td>39.3</td>\n",
       "      <td>20.6</td>\n",
       "      <td>190.0</td>\n",
       "      <td>3650.0</td>\n",
       "      <td>8.664960</td>\n",
       "      <td>-25.298050</td>\n",
       "      <td>67</td>\n",
       "      <td>0</td>\n",
       "      <td>1</td>\n",
       "      <td>0</td>\n",
       "      <td>0</td>\n",
       "      <td>0</td>\n",
       "      <td>0</td>\n",
       "      <td>1</td>\n",
       "      <td>0</td>\n",
       "      <td>1</td>\n",
       "      <td>0</td>\n",
       "      <td>1</td>\n",
       "    </tr>\n",
       "    <tr>\n",
       "      <th>...</th>\n",
       "      <td>...</td>\n",
       "      <td>...</td>\n",
       "      <td>...</td>\n",
       "      <td>...</td>\n",
       "      <td>...</td>\n",
       "      <td>...</td>\n",
       "      <td>...</td>\n",
       "      <td>...</td>\n",
       "      <td>...</td>\n",
       "      <td>...</td>\n",
       "      <td>...</td>\n",
       "      <td>...</td>\n",
       "      <td>...</td>\n",
       "      <td>...</td>\n",
       "      <td>...</td>\n",
       "      <td>...</td>\n",
       "      <td>...</td>\n",
       "      <td>...</td>\n",
       "      <td>...</td>\n",
       "    </tr>\n",
       "    <tr>\n",
       "      <th>339</th>\n",
       "      <td>64</td>\n",
       "      <td>55.8</td>\n",
       "      <td>19.8</td>\n",
       "      <td>207.0</td>\n",
       "      <td>4000.0</td>\n",
       "      <td>9.704650</td>\n",
       "      <td>-24.534940</td>\n",
       "      <td>185</td>\n",
       "      <td>1</td>\n",
       "      <td>0</td>\n",
       "      <td>0</td>\n",
       "      <td>1</td>\n",
       "      <td>0</td>\n",
       "      <td>1</td>\n",
       "      <td>0</td>\n",
       "      <td>0</td>\n",
       "      <td>1</td>\n",
       "      <td>0</td>\n",
       "      <td>1</td>\n",
       "    </tr>\n",
       "    <tr>\n",
       "      <th>340</th>\n",
       "      <td>65</td>\n",
       "      <td>43.5</td>\n",
       "      <td>18.1</td>\n",
       "      <td>202.0</td>\n",
       "      <td>3400.0</td>\n",
       "      <td>9.376080</td>\n",
       "      <td>-24.407530</td>\n",
       "      <td>186</td>\n",
       "      <td>1</td>\n",
       "      <td>0</td>\n",
       "      <td>0</td>\n",
       "      <td>1</td>\n",
       "      <td>0</td>\n",
       "      <td>1</td>\n",
       "      <td>0</td>\n",
       "      <td>1</td>\n",
       "      <td>0</td>\n",
       "      <td>1</td>\n",
       "      <td>0</td>\n",
       "    </tr>\n",
       "    <tr>\n",
       "      <th>341</th>\n",
       "      <td>66</td>\n",
       "      <td>49.6</td>\n",
       "      <td>18.2</td>\n",
       "      <td>193.0</td>\n",
       "      <td>3775.0</td>\n",
       "      <td>9.461800</td>\n",
       "      <td>-24.706150</td>\n",
       "      <td>187</td>\n",
       "      <td>1</td>\n",
       "      <td>0</td>\n",
       "      <td>0</td>\n",
       "      <td>1</td>\n",
       "      <td>0</td>\n",
       "      <td>1</td>\n",
       "      <td>0</td>\n",
       "      <td>1</td>\n",
       "      <td>0</td>\n",
       "      <td>0</td>\n",
       "      <td>1</td>\n",
       "    </tr>\n",
       "    <tr>\n",
       "      <th>342</th>\n",
       "      <td>67</td>\n",
       "      <td>50.8</td>\n",
       "      <td>19.0</td>\n",
       "      <td>210.0</td>\n",
       "      <td>4100.0</td>\n",
       "      <td>9.980440</td>\n",
       "      <td>-24.687410</td>\n",
       "      <td>0</td>\n",
       "      <td>1</td>\n",
       "      <td>0</td>\n",
       "      <td>0</td>\n",
       "      <td>1</td>\n",
       "      <td>0</td>\n",
       "      <td>1</td>\n",
       "      <td>0</td>\n",
       "      <td>0</td>\n",
       "      <td>1</td>\n",
       "      <td>0</td>\n",
       "      <td>1</td>\n",
       "    </tr>\n",
       "    <tr>\n",
       "      <th>343</th>\n",
       "      <td>68</td>\n",
       "      <td>50.2</td>\n",
       "      <td>18.7</td>\n",
       "      <td>198.0</td>\n",
       "      <td>3775.0</td>\n",
       "      <td>9.393050</td>\n",
       "      <td>-24.252550</td>\n",
       "      <td>1</td>\n",
       "      <td>1</td>\n",
       "      <td>0</td>\n",
       "      <td>0</td>\n",
       "      <td>1</td>\n",
       "      <td>0</td>\n",
       "      <td>1</td>\n",
       "      <td>0</td>\n",
       "      <td>0</td>\n",
       "      <td>1</td>\n",
       "      <td>1</td>\n",
       "      <td>0</td>\n",
       "    </tr>\n",
       "  </tbody>\n",
       "</table>\n",
       "<p>333 rows × 19 columns</p>\n",
       "</div>"
      ],
      "text/plain": [
       "     Sample Number  Culmen Length (mm)  Culmen Depth (mm)  \\\n",
       "0                1                39.1               18.7   \n",
       "1                2                39.5               17.4   \n",
       "2                3                40.3               18.0   \n",
       "4                5                36.7               19.3   \n",
       "5                6                39.3               20.6   \n",
       "..             ...                 ...                ...   \n",
       "339             64                55.8               19.8   \n",
       "340             65                43.5               18.1   \n",
       "341             66                49.6               18.2   \n",
       "342             67                50.8               19.0   \n",
       "343             68                50.2               18.7   \n",
       "\n",
       "     Flipper Length (mm)  Body Mass (g)  Delta 15 N (o/oo)  Delta 13 C (o/oo)  \\\n",
       "0                  181.0         3750.0           8.739944         -25.682842   \n",
       "1                  186.0         3800.0           8.949560         -24.694540   \n",
       "2                  195.0         3250.0           8.368210         -25.333020   \n",
       "4                  193.0         3450.0           8.766510         -25.324260   \n",
       "5                  190.0         3650.0           8.664960         -25.298050   \n",
       "..                   ...            ...                ...                ...   \n",
       "339                207.0         4000.0           9.704650         -24.534940   \n",
       "340                202.0         3400.0           9.376080         -24.407530   \n",
       "341                193.0         3775.0           9.461800         -24.706150   \n",
       "342                210.0         4100.0           9.980440         -24.687410   \n",
       "343                198.0         3775.0           9.393050         -24.252550   \n",
       "\n",
       "     Individual ID_Label_encoded  Species_encoded  studyName_PAL0708  \\\n",
       "0                             22                0                  1   \n",
       "1                             23                0                  1   \n",
       "2                             44                0                  1   \n",
       "4                             66                0                  1   \n",
       "5                             67                0                  1   \n",
       "..                           ...              ...                ...   \n",
       "339                          185                1                  0   \n",
       "340                          186                1                  0   \n",
       "341                          187                1                  0   \n",
       "342                            0                1                  0   \n",
       "343                            1                1                  0   \n",
       "\n",
       "     studyName_PAL0809  studyName_PAL0910  Island_Biscoe  Island_Dream  \\\n",
       "0                    0                  0              0             0   \n",
       "1                    0                  0              0             0   \n",
       "2                    0                  0              0             0   \n",
       "4                    0                  0              0             0   \n",
       "5                    0                  0              0             0   \n",
       "..                 ...                ...            ...           ...   \n",
       "339                  0                  1              0             1   \n",
       "340                  0                  1              0             1   \n",
       "341                  0                  1              0             1   \n",
       "342                  0                  1              0             1   \n",
       "343                  0                  1              0             1   \n",
       "\n",
       "     Island_Torgersen  Clutch Completion_No  Clutch Completion_Yes  \\\n",
       "0                   1                     0                      1   \n",
       "1                   1                     0                      1   \n",
       "2                   1                     0                      1   \n",
       "4                   1                     0                      1   \n",
       "5                   1                     0                      1   \n",
       "..                ...                   ...                    ...   \n",
       "339                 0                     0                      1   \n",
       "340                 0                     1                      0   \n",
       "341                 0                     1                      0   \n",
       "342                 0                     0                      1   \n",
       "343                 0                     0                      1   \n",
       "\n",
       "     Sex_FEMALE  Sex_MALE  \n",
       "0             0         1  \n",
       "1             1         0  \n",
       "2             1         0  \n",
       "4             1         0  \n",
       "5             0         1  \n",
       "..          ...       ...  \n",
       "339           0         1  \n",
       "340           1         0  \n",
       "341           0         1  \n",
       "342           0         1  \n",
       "343           1         0  \n",
       "\n",
       "[333 rows x 19 columns]"
      ]
     },
     "execution_count": 56,
     "metadata": {},
     "output_type": "execute_result"
    }
   ],
   "source": [
    "df_2 = pd.get_dummies(data=df, columns=categorical_columns)\n",
    "df_2"
   ]
  },
  {
   "cell_type": "code",
   "execution_count": 59,
   "id": "30127b16",
   "metadata": {},
   "outputs": [
    {
     "data": {
      "text/plain": [
       "Sample Number                  0\n",
       "Culmen Length (mm)             0\n",
       "Culmen Depth (mm)              0\n",
       "Flipper Length (mm)            0\n",
       "Body Mass (g)                  0\n",
       "Delta 15 N (o/oo)              0\n",
       "Delta 13 C (o/oo)              0\n",
       "Individual ID_Label_encoded    0\n",
       "Species_encoded                0\n",
       "studyName_PAL0708              0\n",
       "studyName_PAL0809              0\n",
       "studyName_PAL0910              0\n",
       "Island_Biscoe                  0\n",
       "Island_Dream                   0\n",
       "Island_Torgersen               0\n",
       "Clutch Completion_No           0\n",
       "Clutch Completion_Yes          0\n",
       "Sex_FEMALE                     0\n",
       "Sex_MALE                       0\n",
       "dtype: int64"
      ]
     },
     "execution_count": 59,
     "metadata": {},
     "output_type": "execute_result"
    }
   ],
   "source": [
    "#Checking the number of rows which have null values for each columns:\n",
    "\n",
    "df_2.isnull().sum()"
   ]
  },
  {
   "cell_type": "markdown",
   "id": "cc245f6e",
   "metadata": {},
   "source": [
    "<b>Correlation Matrix of df_2:</b>"
   ]
  },
  {
   "cell_type": "code",
   "execution_count": 60,
   "id": "b293650b",
   "metadata": {},
   "outputs": [
    {
     "data": {
      "image/png": "[encoded data removed]",
      "text/plain": [
       "<Figure size 1080x1080 with 2 Axes>"
      ]
     },
     "metadata": {
      "needs_background": "light"
     },
     "output_type": "display_data"
    }
   ],
   "source": [
    "import seaborn as sns\n",
    "\n",
    "corr = df_2.corr()\n",
    "\n",
    "mask = np.triu(np.ones_like(corr, dtype=bool))\n",
    "fig, ax = plt.subplots(figsize=(15,15))\n",
    "sns.heatmap(corr,cmap='YlGnBu', mask=mask, center=0, linewidths=1, annot=True, fmt=\".2f\", ax=ax)\n",
    "plt.show()"
   ]
  },
  {
   "cell_type": "markdown",
   "id": "335a0cfc",
   "metadata": {},
   "source": [
    "<b>Train Test Split:</b>"
   ]
  },
  {
   "cell_type": "code",
   "execution_count": 61,
   "id": "692f612b",
   "metadata": {},
   "outputs": [
    {
     "data": {
      "text/plain": [
       "(333, 19)"
      ]
     },
     "execution_count": 61,
     "metadata": {},
     "output_type": "execute_result"
    }
   ],
   "source": [
    "df_2.shape"
   ]
  },
  {
   "cell_type": "code",
   "execution_count": 62,
   "id": "0d51f2e8",
   "metadata": {},
   "outputs": [
    {
     "data": {
      "text/plain": [
       "0      0\n",
       "1      0\n",
       "2      0\n",
       "4      0\n",
       "5      0\n",
       "      ..\n",
       "339    1\n",
       "340    1\n",
       "341    1\n",
       "342    1\n",
       "343    1\n",
       "Name: Species_encoded, Length: 333, dtype: int32"
      ]
     },
     "execution_count": 62,
     "metadata": {},
     "output_type": "execute_result"
    }
   ],
   "source": [
    "y = df_2['Species_encoded'].copy()\n",
    "y"
   ]
  },
  {
   "cell_type": "code",
   "execution_count": 63,
   "id": "37807a60",
   "metadata": {},
   "outputs": [
    {
     "data": {
      "text/html": [
       "<div>\n",
       "<style scoped>\n",
       "    .dataframe tbody tr th:only-of-type {\n",
       "        vertical-align: middle;\n",
       "    }\n",
       "\n",
       "    .dataframe tbody tr th {\n",
       "        vertical-align: top;\n",
       "    }\n",
       "\n",
       "    .dataframe thead th {\n",
       "        text-align: right;\n",
       "    }\n",
       "</style>\n",
       "<table border=\"1\" class=\"dataframe\">\n",
       "  <thead>\n",
       "    <tr style=\"text-align: right;\">\n",
       "      <th></th>\n",
       "      <th>Sample Number</th>\n",
       "      <th>Culmen Length (mm)</th>\n",
       "      <th>Culmen Depth (mm)</th>\n",
       "      <th>Flipper Length (mm)</th>\n",
       "      <th>Body Mass (g)</th>\n",
       "      <th>Delta 15 N (o/oo)</th>\n",
       "      <th>Delta 13 C (o/oo)</th>\n",
       "      <th>Individual ID_Label_encoded</th>\n",
       "      <th>studyName_PAL0708</th>\n",
       "      <th>studyName_PAL0809</th>\n",
       "      <th>studyName_PAL0910</th>\n",
       "      <th>Island_Biscoe</th>\n",
       "      <th>Island_Dream</th>\n",
       "      <th>Island_Torgersen</th>\n",
       "      <th>Clutch Completion_No</th>\n",
       "      <th>Clutch Completion_Yes</th>\n",
       "      <th>Sex_FEMALE</th>\n",
       "      <th>Sex_MALE</th>\n",
       "    </tr>\n",
       "  </thead>\n",
       "  <tbody>\n",
       "    <tr>\n",
       "      <th>0</th>\n",
       "      <td>1</td>\n",
       "      <td>39.1</td>\n",
       "      <td>18.7</td>\n",
       "      <td>181.0</td>\n",
       "      <td>3750.0</td>\n",
       "      <td>8.739944</td>\n",
       "      <td>-25.682842</td>\n",
       "      <td>22</td>\n",
       "      <td>1</td>\n",
       "      <td>0</td>\n",
       "      <td>0</td>\n",
       "      <td>0</td>\n",
       "      <td>0</td>\n",
       "      <td>1</td>\n",
       "      <td>0</td>\n",
       "      <td>1</td>\n",
       "      <td>0</td>\n",
       "      <td>1</td>\n",
       "    </tr>\n",
       "    <tr>\n",
       "      <th>1</th>\n",
       "      <td>2</td>\n",
       "      <td>39.5</td>\n",
       "      <td>17.4</td>\n",
       "      <td>186.0</td>\n",
       "      <td>3800.0</td>\n",
       "      <td>8.949560</td>\n",
       "      <td>-24.694540</td>\n",
       "      <td>23</td>\n",
       "      <td>1</td>\n",
       "      <td>0</td>\n",
       "      <td>0</td>\n",
       "      <td>0</td>\n",
       "      <td>0</td>\n",
       "      <td>1</td>\n",
       "      <td>0</td>\n",
       "      <td>1</td>\n",
       "      <td>1</td>\n",
       "      <td>0</td>\n",
       "    </tr>\n",
       "    <tr>\n",
       "      <th>2</th>\n",
       "      <td>3</td>\n",
       "      <td>40.3</td>\n",
       "      <td>18.0</td>\n",
       "      <td>195.0</td>\n",
       "      <td>3250.0</td>\n",
       "      <td>8.368210</td>\n",
       "      <td>-25.333020</td>\n",
       "      <td>44</td>\n",
       "      <td>1</td>\n",
       "      <td>0</td>\n",
       "      <td>0</td>\n",
       "      <td>0</td>\n",
       "      <td>0</td>\n",
       "      <td>1</td>\n",
       "      <td>0</td>\n",
       "      <td>1</td>\n",
       "      <td>1</td>\n",
       "      <td>0</td>\n",
       "    </tr>\n",
       "    <tr>\n",
       "      <th>4</th>\n",
       "      <td>5</td>\n",
       "      <td>36.7</td>\n",
       "      <td>19.3</td>\n",
       "      <td>193.0</td>\n",
       "      <td>3450.0</td>\n",
       "      <td>8.766510</td>\n",
       "      <td>-25.324260</td>\n",
       "      <td>66</td>\n",
       "      <td>1</td>\n",
       "      <td>0</td>\n",
       "      <td>0</td>\n",
       "      <td>0</td>\n",
       "      <td>0</td>\n",
       "      <td>1</td>\n",
       "      <td>0</td>\n",
       "      <td>1</td>\n",
       "      <td>1</td>\n",
       "      <td>0</td>\n",
       "    </tr>\n",
       "    <tr>\n",
       "      <th>5</th>\n",
       "      <td>6</td>\n",
       "      <td>39.3</td>\n",
       "      <td>20.6</td>\n",
       "      <td>190.0</td>\n",
       "      <td>3650.0</td>\n",
       "      <td>8.664960</td>\n",
       "      <td>-25.298050</td>\n",
       "      <td>67</td>\n",
       "      <td>1</td>\n",
       "      <td>0</td>\n",
       "      <td>0</td>\n",
       "      <td>0</td>\n",
       "      <td>0</td>\n",
       "      <td>1</td>\n",
       "      <td>0</td>\n",
       "      <td>1</td>\n",
       "      <td>0</td>\n",
       "      <td>1</td>\n",
       "    </tr>\n",
       "    <tr>\n",
       "      <th>...</th>\n",
       "      <td>...</td>\n",
       "      <td>...</td>\n",
       "      <td>...</td>\n",
       "      <td>...</td>\n",
       "      <td>...</td>\n",
       "      <td>...</td>\n",
       "      <td>...</td>\n",
       "      <td>...</td>\n",
       "      <td>...</td>\n",
       "      <td>...</td>\n",
       "      <td>...</td>\n",
       "      <td>...</td>\n",
       "      <td>...</td>\n",
       "      <td>...</td>\n",
       "      <td>...</td>\n",
       "      <td>...</td>\n",
       "      <td>...</td>\n",
       "      <td>...</td>\n",
       "    </tr>\n",
       "    <tr>\n",
       "      <th>339</th>\n",
       "      <td>64</td>\n",
       "      <td>55.8</td>\n",
       "      <td>19.8</td>\n",
       "      <td>207.0</td>\n",
       "      <td>4000.0</td>\n",
       "      <td>9.704650</td>\n",
       "      <td>-24.534940</td>\n",
       "      <td>185</td>\n",
       "      <td>0</td>\n",
       "      <td>0</td>\n",
       "      <td>1</td>\n",
       "      <td>0</td>\n",
       "      <td>1</td>\n",
       "      <td>0</td>\n",
       "      <td>0</td>\n",
       "      <td>1</td>\n",
       "      <td>0</td>\n",
       "      <td>1</td>\n",
       "    </tr>\n",
       "    <tr>\n",
       "      <th>340</th>\n",
       "      <td>65</td>\n",
       "      <td>43.5</td>\n",
       "      <td>18.1</td>\n",
       "      <td>202.0</td>\n",
       "      <td>3400.0</td>\n",
       "      <td>9.376080</td>\n",
       "      <td>-24.407530</td>\n",
       "      <td>186</td>\n",
       "      <td>0</td>\n",
       "      <td>0</td>\n",
       "      <td>1</td>\n",
       "      <td>0</td>\n",
       "      <td>1</td>\n",
       "      <td>0</td>\n",
       "      <td>1</td>\n",
       "      <td>0</td>\n",
       "      <td>1</td>\n",
       "      <td>0</td>\n",
       "    </tr>\n",
       "    <tr>\n",
       "      <th>341</th>\n",
       "      <td>66</td>\n",
       "      <td>49.6</td>\n",
       "      <td>18.2</td>\n",
       "      <td>193.0</td>\n",
       "      <td>3775.0</td>\n",
       "      <td>9.461800</td>\n",
       "      <td>-24.706150</td>\n",
       "      <td>187</td>\n",
       "      <td>0</td>\n",
       "      <td>0</td>\n",
       "      <td>1</td>\n",
       "      <td>0</td>\n",
       "      <td>1</td>\n",
       "      <td>0</td>\n",
       "      <td>1</td>\n",
       "      <td>0</td>\n",
       "      <td>0</td>\n",
       "      <td>1</td>\n",
       "    </tr>\n",
       "    <tr>\n",
       "      <th>342</th>\n",
       "      <td>67</td>\n",
       "      <td>50.8</td>\n",
       "      <td>19.0</td>\n",
       "      <td>210.0</td>\n",
       "      <td>4100.0</td>\n",
       "      <td>9.980440</td>\n",
       "      <td>-24.687410</td>\n",
       "      <td>0</td>\n",
       "      <td>0</td>\n",
       "      <td>0</td>\n",
       "      <td>1</td>\n",
       "      <td>0</td>\n",
       "      <td>1</td>\n",
       "      <td>0</td>\n",
       "      <td>0</td>\n",
       "      <td>1</td>\n",
       "      <td>0</td>\n",
       "      <td>1</td>\n",
       "    </tr>\n",
       "    <tr>\n",
       "      <th>343</th>\n",
       "      <td>68</td>\n",
       "      <td>50.2</td>\n",
       "      <td>18.7</td>\n",
       "      <td>198.0</td>\n",
       "      <td>3775.0</td>\n",
       "      <td>9.393050</td>\n",
       "      <td>-24.252550</td>\n",
       "      <td>1</td>\n",
       "      <td>0</td>\n",
       "      <td>0</td>\n",
       "      <td>1</td>\n",
       "      <td>0</td>\n",
       "      <td>1</td>\n",
       "      <td>0</td>\n",
       "      <td>0</td>\n",
       "      <td>1</td>\n",
       "      <td>1</td>\n",
       "      <td>0</td>\n",
       "    </tr>\n",
       "  </tbody>\n",
       "</table>\n",
       "<p>333 rows × 18 columns</p>\n",
       "</div>"
      ],
      "text/plain": [
       "     Sample Number  Culmen Length (mm)  Culmen Depth (mm)  \\\n",
       "0                1                39.1               18.7   \n",
       "1                2                39.5               17.4   \n",
       "2                3                40.3               18.0   \n",
       "4                5                36.7               19.3   \n",
       "5                6                39.3               20.6   \n",
       "..             ...                 ...                ...   \n",
       "339             64                55.8               19.8   \n",
       "340             65                43.5               18.1   \n",
       "341             66                49.6               18.2   \n",
       "342             67                50.8               19.0   \n",
       "343             68                50.2               18.7   \n",
       "\n",
       "     Flipper Length (mm)  Body Mass (g)  Delta 15 N (o/oo)  Delta 13 C (o/oo)  \\\n",
       "0                  181.0         3750.0           8.739944         -25.682842   \n",
       "1                  186.0         3800.0           8.949560         -24.694540   \n",
       "2                  195.0         3250.0           8.368210         -25.333020   \n",
       "4                  193.0         3450.0           8.766510         -25.324260   \n",
       "5                  190.0         3650.0           8.664960         -25.298050   \n",
       "..                   ...            ...                ...                ...   \n",
       "339                207.0         4000.0           9.704650         -24.534940   \n",
       "340                202.0         3400.0           9.376080         -24.407530   \n",
       "341                193.0         3775.0           9.461800         -24.706150   \n",
       "342                210.0         4100.0           9.980440         -24.687410   \n",
       "343                198.0         3775.0           9.393050         -24.252550   \n",
       "\n",
       "     Individual ID_Label_encoded  studyName_PAL0708  studyName_PAL0809  \\\n",
       "0                             22                  1                  0   \n",
       "1                             23                  1                  0   \n",
       "2                             44                  1                  0   \n",
       "4                             66                  1                  0   \n",
       "5                             67                  1                  0   \n",
       "..                           ...                ...                ...   \n",
       "339                          185                  0                  0   \n",
       "340                          186                  0                  0   \n",
       "341                          187                  0                  0   \n",
       "342                            0                  0                  0   \n",
       "343                            1                  0                  0   \n",
       "\n",
       "     studyName_PAL0910  Island_Biscoe  Island_Dream  Island_Torgersen  \\\n",
       "0                    0              0             0                 1   \n",
       "1                    0              0             0                 1   \n",
       "2                    0              0             0                 1   \n",
       "4                    0              0             0                 1   \n",
       "5                    0              0             0                 1   \n",
       "..                 ...            ...           ...               ...   \n",
       "339                  1              0             1                 0   \n",
       "340                  1              0             1                 0   \n",
       "341                  1              0             1                 0   \n",
       "342                  1              0             1                 0   \n",
       "343                  1              0             1                 0   \n",
       "\n",
       "     Clutch Completion_No  Clutch Completion_Yes  Sex_FEMALE  Sex_MALE  \n",
       "0                       0                      1           0         1  \n",
       "1                       0                      1           1         0  \n",
       "2                       0                      1           1         0  \n",
       "4                       0                      1           1         0  \n",
       "5                       0                      1           0         1  \n",
       "..                    ...                    ...         ...       ...  \n",
       "339                     0                      1           0         1  \n",
       "340                     1                      0           1         0  \n",
       "341                     1                      0           0         1  \n",
       "342                     0                      1           0         1  \n",
       "343                     0                      1           1         0  \n",
       "\n",
       "[333 rows x 18 columns]"
      ]
     },
     "execution_count": 63,
     "metadata": {},
     "output_type": "execute_result"
    }
   ],
   "source": [
    "X = df_2.drop('Species_encoded', axis = 1).copy()\n",
    "X"
   ]
  },
  {
   "cell_type": "code",
   "execution_count": 64,
   "id": "e04f548b",
   "metadata": {},
   "outputs": [],
   "source": [
    "from sklearn.preprocessing import StandardScaler\n",
    "from sklearn.model_selection import train_test_split\n",
    "\n",
    "scaler = StandardScaler()\n",
    "df_2_scaled = scaler.fit_transform(X)\n",
    "                                   \n",
    "X_train, X_test, y_train, y_test = train_test_split(df_2_scaled, y, test_size=0.25, random_state=42, stratify = y)"
   ]
  },
  {
   "cell_type": "code",
   "execution_count": 65,
   "id": "c6b9ad4a",
   "metadata": {},
   "outputs": [
    {
     "name": "stdout",
     "output_type": "stream",
     "text": [
      "(249, 18)\n",
      "(84, 18)\n"
     ]
    }
   ],
   "source": [
    "print(X_train.shape)\n",
    "print(X_test.shape)"
   ]
  },
  {
   "cell_type": "markdown",
   "id": "91ff71ef",
   "metadata": {},
   "source": [
    "<b>PCA:</b>"
   ]
  },
  {
   "cell_type": "code",
   "execution_count": 66,
   "id": "78cae0dd",
   "metadata": {},
   "outputs": [],
   "source": [
    "from sklearn.decomposition import PCA\n",
    "pca = PCA().fit(X_train)"
   ]
  },
  {
   "cell_type": "code",
   "execution_count": 67,
   "id": "29c0d841",
   "metadata": {},
   "outputs": [
    {
     "data": {
      "image/png": "[encoded data removed]",
      "text/plain": [
       "<Figure size 1440x432 with 1 Axes>"
      ]
     },
     "metadata": {
      "needs_background": "light"
     },
     "output_type": "display_data"
    }
   ],
   "source": [
    "%matplotlib inline\n",
    "import matplotlib.pyplot as plt\n",
    "plt.rcParams[\"figure.figsize\"] = (20,6)\n",
    "\n",
    "fig, ax = plt.subplots()\n",
    "xi = np.arange(1, 19, step=1)\n",
    "yi = np.cumsum(pca.explained_variance_ratio_)\n",
    "\n",
    "plt.ylim(0.0,1.1)\n",
    "plt.plot(xi, yi, marker='o', linestyle='--', color='b')\n",
    "\n",
    "plt.xlabel('Number of Components')\n",
    "plt.xticks(np.arange(0, 19, step=1)) #change from 0-based array index to 1-based human-readable label\n",
    "plt.xticks(rotation=90)\n",
    "plt.ylabel('Cumulative variance (%)')\n",
    "plt.title('The number of components needed to explain variance for df_2')\n",
    "\n",
    "plt.axhline(y=0.99, color='r', linestyle='-')\n",
    "plt.text(0.7, 0.75, '99% cut-off threshold', color = 'red', fontsize=16)\n",
    "\n",
    "ax.grid(axis='x')\n",
    "plt.show()"
   ]
  },
  {
   "cell_type": "code",
   "execution_count": 68,
   "id": "7d2c9c48",
   "metadata": {},
   "outputs": [],
   "source": [
    "model_pca = PCA(n_components=11)\n",
    "\n",
    "pca_X_train = model_pca.fit_transform(X_train)\n",
    "pca_X_test  = model_pca.transform(X_test)"
   ]
  },
  {
   "cell_type": "code",
   "execution_count": 69,
   "id": "c9929245",
   "metadata": {},
   "outputs": [
    {
     "name": "stdout",
     "output_type": "stream",
     "text": [
      "(249, 18)\n",
      "(84, 18)\n",
      "(249, 11)\n",
      "(84, 11)\n"
     ]
    }
   ],
   "source": [
    "print(X_train.shape)\n",
    "print(X_test.shape)\n",
    "print(pca_X_train.shape)\n",
    "print(pca_X_test.shape)"
   ]
  },
  {
   "cell_type": "code",
   "execution_count": 70,
   "id": "d8a1eac9",
   "metadata": {},
   "outputs": [
    {
     "data": {
      "text/html": [
       "<div>\n",
       "<style scoped>\n",
       "    .dataframe tbody tr th:only-of-type {\n",
       "        vertical-align: middle;\n",
       "    }\n",
       "\n",
       "    .dataframe tbody tr th {\n",
       "        vertical-align: top;\n",
       "    }\n",
       "\n",
       "    .dataframe thead th {\n",
       "        text-align: right;\n",
       "    }\n",
       "</style>\n",
       "<table border=\"1\" class=\"dataframe\">\n",
       "  <thead>\n",
       "    <tr style=\"text-align: right;\">\n",
       "      <th></th>\n",
       "      <th>PC1</th>\n",
       "      <th>PC2</th>\n",
       "      <th>PC3</th>\n",
       "      <th>PC4</th>\n",
       "      <th>PC5</th>\n",
       "      <th>PC6</th>\n",
       "      <th>PC7</th>\n",
       "      <th>PC8</th>\n",
       "      <th>PC9</th>\n",
       "      <th>PC10</th>\n",
       "      <th>PC11</th>\n",
       "    </tr>\n",
       "  </thead>\n",
       "  <tbody>\n",
       "    <tr>\n",
       "      <th>0</th>\n",
       "      <td>1.474057</td>\n",
       "      <td>2.017902</td>\n",
       "      <td>-0.856308</td>\n",
       "      <td>-0.765991</td>\n",
       "      <td>0.513228</td>\n",
       "      <td>2.232322</td>\n",
       "      <td>-1.044181</td>\n",
       "      <td>0.847290</td>\n",
       "      <td>0.001687</td>\n",
       "      <td>-0.408402</td>\n",
       "      <td>-0.404431</td>\n",
       "    </tr>\n",
       "    <tr>\n",
       "      <th>1</th>\n",
       "      <td>2.292116</td>\n",
       "      <td>2.241092</td>\n",
       "      <td>1.547195</td>\n",
       "      <td>2.699218</td>\n",
       "      <td>0.811633</td>\n",
       "      <td>-0.486031</td>\n",
       "      <td>2.019170</td>\n",
       "      <td>-1.226677</td>\n",
       "      <td>-1.324517</td>\n",
       "      <td>0.082167</td>\n",
       "      <td>0.122491</td>\n",
       "    </tr>\n",
       "    <tr>\n",
       "      <th>2</th>\n",
       "      <td>-3.187195</td>\n",
       "      <td>0.957811</td>\n",
       "      <td>-1.863723</td>\n",
       "      <td>0.187049</td>\n",
       "      <td>-0.221240</td>\n",
       "      <td>-0.898844</td>\n",
       "      <td>0.647866</td>\n",
       "      <td>0.437482</td>\n",
       "      <td>-0.599510</td>\n",
       "      <td>-0.624287</td>\n",
       "      <td>-0.085634</td>\n",
       "    </tr>\n",
       "    <tr>\n",
       "      <th>3</th>\n",
       "      <td>0.867145</td>\n",
       "      <td>-2.053997</td>\n",
       "      <td>0.356378</td>\n",
       "      <td>-0.229658</td>\n",
       "      <td>0.468386</td>\n",
       "      <td>2.171686</td>\n",
       "      <td>0.120166</td>\n",
       "      <td>-0.893626</td>\n",
       "      <td>-0.918784</td>\n",
       "      <td>-0.875180</td>\n",
       "      <td>0.252852</td>\n",
       "    </tr>\n",
       "    <tr>\n",
       "      <th>4</th>\n",
       "      <td>3.410149</td>\n",
       "      <td>2.189773</td>\n",
       "      <td>2.179558</td>\n",
       "      <td>2.557979</td>\n",
       "      <td>-2.492501</td>\n",
       "      <td>0.265890</td>\n",
       "      <td>-0.502692</td>\n",
       "      <td>0.222553</td>\n",
       "      <td>-0.157919</td>\n",
       "      <td>-0.895415</td>\n",
       "      <td>-0.508269</td>\n",
       "    </tr>\n",
       "    <tr>\n",
       "      <th>...</th>\n",
       "      <td>...</td>\n",
       "      <td>...</td>\n",
       "      <td>...</td>\n",
       "      <td>...</td>\n",
       "      <td>...</td>\n",
       "      <td>...</td>\n",
       "      <td>...</td>\n",
       "      <td>...</td>\n",
       "      <td>...</td>\n",
       "      <td>...</td>\n",
       "      <td>...</td>\n",
       "    </tr>\n",
       "    <tr>\n",
       "      <th>244</th>\n",
       "      <td>1.881194</td>\n",
       "      <td>0.556845</td>\n",
       "      <td>0.475102</td>\n",
       "      <td>-1.040948</td>\n",
       "      <td>2.649574</td>\n",
       "      <td>-2.302148</td>\n",
       "      <td>-1.658507</td>\n",
       "      <td>-1.244675</td>\n",
       "      <td>0.610823</td>\n",
       "      <td>-0.094931</td>\n",
       "      <td>1.009391</td>\n",
       "    </tr>\n",
       "    <tr>\n",
       "      <th>245</th>\n",
       "      <td>0.192433</td>\n",
       "      <td>-2.893684</td>\n",
       "      <td>-0.600434</td>\n",
       "      <td>-0.018673</td>\n",
       "      <td>-1.035120</td>\n",
       "      <td>-0.432327</td>\n",
       "      <td>1.406601</td>\n",
       "      <td>0.246797</td>\n",
       "      <td>1.419310</td>\n",
       "      <td>0.561964</td>\n",
       "      <td>-0.515182</td>\n",
       "    </tr>\n",
       "    <tr>\n",
       "      <th>246</th>\n",
       "      <td>-2.403342</td>\n",
       "      <td>-1.527320</td>\n",
       "      <td>-0.651586</td>\n",
       "      <td>0.192825</td>\n",
       "      <td>-2.049925</td>\n",
       "      <td>-0.658737</td>\n",
       "      <td>0.262026</td>\n",
       "      <td>0.468117</td>\n",
       "      <td>-0.355398</td>\n",
       "      <td>-0.052692</td>\n",
       "      <td>-0.244079</td>\n",
       "    </tr>\n",
       "    <tr>\n",
       "      <th>247</th>\n",
       "      <td>-1.760116</td>\n",
       "      <td>0.435158</td>\n",
       "      <td>2.638246</td>\n",
       "      <td>-1.075997</td>\n",
       "      <td>-1.653543</td>\n",
       "      <td>-0.656482</td>\n",
       "      <td>-0.358742</td>\n",
       "      <td>0.263354</td>\n",
       "      <td>0.110672</td>\n",
       "      <td>-0.017912</td>\n",
       "      <td>-0.273193</td>\n",
       "    </tr>\n",
       "    <tr>\n",
       "      <th>248</th>\n",
       "      <td>0.125977</td>\n",
       "      <td>-3.436448</td>\n",
       "      <td>1.262910</td>\n",
       "      <td>0.273835</td>\n",
       "      <td>2.580700</td>\n",
       "      <td>-0.081216</td>\n",
       "      <td>-1.083399</td>\n",
       "      <td>-0.324721</td>\n",
       "      <td>-0.758962</td>\n",
       "      <td>-1.041987</td>\n",
       "      <td>0.222645</td>\n",
       "    </tr>\n",
       "  </tbody>\n",
       "</table>\n",
       "<p>249 rows × 11 columns</p>\n",
       "</div>"
      ],
      "text/plain": [
       "          PC1       PC2       PC3       PC4       PC5       PC6       PC7  \\\n",
       "0    1.474057  2.017902 -0.856308 -0.765991  0.513228  2.232322 -1.044181   \n",
       "1    2.292116  2.241092  1.547195  2.699218  0.811633 -0.486031  2.019170   \n",
       "2   -3.187195  0.957811 -1.863723  0.187049 -0.221240 -0.898844  0.647866   \n",
       "3    0.867145 -2.053997  0.356378 -0.229658  0.468386  2.171686  0.120166   \n",
       "4    3.410149  2.189773  2.179558  2.557979 -2.492501  0.265890 -0.502692   \n",
       "..        ...       ...       ...       ...       ...       ...       ...   \n",
       "244  1.881194  0.556845  0.475102 -1.040948  2.649574 -2.302148 -1.658507   \n",
       "245  0.192433 -2.893684 -0.600434 -0.018673 -1.035120 -0.432327  1.406601   \n",
       "246 -2.403342 -1.527320 -0.651586  0.192825 -2.049925 -0.658737  0.262026   \n",
       "247 -1.760116  0.435158  2.638246 -1.075997 -1.653543 -0.656482 -0.358742   \n",
       "248  0.125977 -3.436448  1.262910  0.273835  2.580700 -0.081216 -1.083399   \n",
       "\n",
       "          PC8       PC9      PC10      PC11  \n",
       "0    0.847290  0.001687 -0.408402 -0.404431  \n",
       "1   -1.226677 -1.324517  0.082167  0.122491  \n",
       "2    0.437482 -0.599510 -0.624287 -0.085634  \n",
       "3   -0.893626 -0.918784 -0.875180  0.252852  \n",
       "4    0.222553 -0.157919 -0.895415 -0.508269  \n",
       "..        ...       ...       ...       ...  \n",
       "244 -1.244675  0.610823 -0.094931  1.009391  \n",
       "245  0.246797  1.419310  0.561964 -0.515182  \n",
       "246  0.468117 -0.355398 -0.052692 -0.244079  \n",
       "247  0.263354  0.110672 -0.017912 -0.273193  \n",
       "248 -0.324721 -0.758962 -1.041987  0.222645  \n",
       "\n",
       "[249 rows x 11 columns]"
      ]
     },
     "execution_count": 70,
     "metadata": {},
     "output_type": "execute_result"
    }
   ],
   "source": [
    "pca_X_train_DataFrame = pd.DataFrame(data = pca_X_train,\n",
    "                                     columns = ['PC1', 'PC2', 'PC3', 'PC4', 'PC5', 'PC6', \n",
    "                                                'PC7','PC8', 'PC9', 'PC10', 'PC11',]\n",
    "                                    )\n",
    "\n",
    "pca_X_train_DataFrame"
   ]
  },
  {
   "cell_type": "code",
   "execution_count": 71,
   "id": "8204363b",
   "metadata": {},
   "outputs": [
    {
     "data": {
      "text/plain": [
       "11"
      ]
     },
     "execution_count": 71,
     "metadata": {},
     "output_type": "execute_result"
    }
   ],
   "source": [
    "len(model_pca.explained_variance_ratio_)"
   ]
  },
  {
   "cell_type": "code",
   "execution_count": 72,
   "id": "31f3e67f",
   "metadata": {},
   "outputs": [
    {
     "data": {
      "text/html": [
       "<div>\n",
       "<style scoped>\n",
       "    .dataframe tbody tr th:only-of-type {\n",
       "        vertical-align: middle;\n",
       "    }\n",
       "\n",
       "    .dataframe tbody tr th {\n",
       "        vertical-align: top;\n",
       "    }\n",
       "\n",
       "    .dataframe thead th {\n",
       "        text-align: right;\n",
       "    }\n",
       "</style>\n",
       "<table border=\"1\" class=\"dataframe\">\n",
       "  <thead>\n",
       "    <tr style=\"text-align: right;\">\n",
       "      <th></th>\n",
       "      <th>PC</th>\n",
       "      <th>var</th>\n",
       "    </tr>\n",
       "  </thead>\n",
       "  <tbody>\n",
       "    <tr>\n",
       "      <th>0</th>\n",
       "      <td>PC1</td>\n",
       "      <td>0.276063</td>\n",
       "    </tr>\n",
       "    <tr>\n",
       "      <th>1</th>\n",
       "      <td>PC2</td>\n",
       "      <td>0.165993</td>\n",
       "    </tr>\n",
       "    <tr>\n",
       "      <th>2</th>\n",
       "      <td>PC3</td>\n",
       "      <td>0.142111</td>\n",
       "    </tr>\n",
       "    <tr>\n",
       "      <th>3</th>\n",
       "      <td>PC4</td>\n",
       "      <td>0.105580</td>\n",
       "    </tr>\n",
       "    <tr>\n",
       "      <th>4</th>\n",
       "      <td>PC5</td>\n",
       "      <td>0.097728</td>\n",
       "    </tr>\n",
       "    <tr>\n",
       "      <th>5</th>\n",
       "      <td>PC6</td>\n",
       "      <td>0.072266</td>\n",
       "    </tr>\n",
       "    <tr>\n",
       "      <th>6</th>\n",
       "      <td>PC7</td>\n",
       "      <td>0.049785</td>\n",
       "    </tr>\n",
       "    <tr>\n",
       "      <th>7</th>\n",
       "      <td>PC8</td>\n",
       "      <td>0.026988</td>\n",
       "    </tr>\n",
       "    <tr>\n",
       "      <th>8</th>\n",
       "      <td>PC9</td>\n",
       "      <td>0.021837</td>\n",
       "    </tr>\n",
       "    <tr>\n",
       "      <th>9</th>\n",
       "      <td>PC10</td>\n",
       "      <td>0.014466</td>\n",
       "    </tr>\n",
       "    <tr>\n",
       "      <th>10</th>\n",
       "      <td>PC11</td>\n",
       "      <td>0.010370</td>\n",
       "    </tr>\n",
       "  </tbody>\n",
       "</table>\n",
       "</div>"
      ],
      "text/plain": [
       "      PC       var\n",
       "0    PC1  0.276063\n",
       "1    PC2  0.165993\n",
       "2    PC3  0.142111\n",
       "3    PC4  0.105580\n",
       "4    PC5  0.097728\n",
       "5    PC6  0.072266\n",
       "6    PC7  0.049785\n",
       "7    PC8  0.026988\n",
       "8    PC9  0.021837\n",
       "9   PC10  0.014466\n",
       "10  PC11  0.010370"
      ]
     },
     "execution_count": 72,
     "metadata": {},
     "output_type": "execute_result"
    }
   ],
   "source": [
    "variance_df = pd.DataFrame({\n",
    "    'PC':['PC1','PC2','PC3','PC4', 'PC5', 'PC6','PC7','PC8', 'PC9', 'PC10', 'PC11'],\n",
    "    'var':model_pca.explained_variance_ratio_   \n",
    "})\n",
    "variance_df"
   ]
  },
  {
   "cell_type": "code",
   "execution_count": 73,
   "id": "658308c3",
   "metadata": {},
   "outputs": [
    {
     "data": {
      "image/png": "[encoded data removed]",
      "text/plain": [
       "<Figure size 1440x432 with 1 Axes>"
      ]
     },
     "metadata": {
      "needs_background": "light"
     },
     "output_type": "display_data"
    }
   ],
   "source": [
    "sns.barplot(x = variance_df['PC'],\n",
    "            y = variance_df[\"var\"], \n",
    "            data = variance_df,\n",
    "            color = \"c\");"
   ]
  },
  {
   "cell_type": "code",
   "execution_count": 74,
   "id": "4076614f",
   "metadata": {},
   "outputs": [
    {
     "data": {
      "text/plain": [
       "0      1.474057\n",
       "1      2.292116\n",
       "2     -3.187195\n",
       "3      0.867145\n",
       "4      3.410149\n",
       "         ...   \n",
       "244    1.881194\n",
       "245    0.192433\n",
       "246   -2.403342\n",
       "247   -1.760116\n",
       "248    0.125977\n",
       "Name: PC1, Length: 249, dtype: float64"
      ]
     },
     "execution_count": 74,
     "metadata": {},
     "output_type": "execute_result"
    }
   ],
   "source": [
    "pca_X_train_DataFrame[\"PC1\"]"
   ]
  },
  {
   "cell_type": "code",
   "execution_count": 75,
   "id": "4ac5dc28",
   "metadata": {},
   "outputs": [
    {
     "data": {
      "text/html": [
       "<div>\n",
       "<style scoped>\n",
       "    .dataframe tbody tr th:only-of-type {\n",
       "        vertical-align: middle;\n",
       "    }\n",
       "\n",
       "    .dataframe tbody tr th {\n",
       "        vertical-align: top;\n",
       "    }\n",
       "\n",
       "    .dataframe thead th {\n",
       "        text-align: right;\n",
       "    }\n",
       "</style>\n",
       "<table border=\"1\" class=\"dataframe\">\n",
       "  <thead>\n",
       "    <tr style=\"text-align: right;\">\n",
       "      <th></th>\n",
       "      <th>PC1</th>\n",
       "      <th>PC2</th>\n",
       "    </tr>\n",
       "  </thead>\n",
       "  <tbody>\n",
       "    <tr>\n",
       "      <th>0</th>\n",
       "      <td>1.474057</td>\n",
       "      <td>2.017902</td>\n",
       "    </tr>\n",
       "    <tr>\n",
       "      <th>1</th>\n",
       "      <td>2.292116</td>\n",
       "      <td>2.241092</td>\n",
       "    </tr>\n",
       "    <tr>\n",
       "      <th>2</th>\n",
       "      <td>-3.187195</td>\n",
       "      <td>0.957811</td>\n",
       "    </tr>\n",
       "    <tr>\n",
       "      <th>3</th>\n",
       "      <td>0.867145</td>\n",
       "      <td>-2.053997</td>\n",
       "    </tr>\n",
       "    <tr>\n",
       "      <th>4</th>\n",
       "      <td>3.410149</td>\n",
       "      <td>2.189773</td>\n",
       "    </tr>\n",
       "    <tr>\n",
       "      <th>...</th>\n",
       "      <td>...</td>\n",
       "      <td>...</td>\n",
       "    </tr>\n",
       "    <tr>\n",
       "      <th>244</th>\n",
       "      <td>1.881194</td>\n",
       "      <td>0.556845</td>\n",
       "    </tr>\n",
       "    <tr>\n",
       "      <th>245</th>\n",
       "      <td>0.192433</td>\n",
       "      <td>-2.893684</td>\n",
       "    </tr>\n",
       "    <tr>\n",
       "      <th>246</th>\n",
       "      <td>-2.403342</td>\n",
       "      <td>-1.527320</td>\n",
       "    </tr>\n",
       "    <tr>\n",
       "      <th>247</th>\n",
       "      <td>-1.760116</td>\n",
       "      <td>0.435158</td>\n",
       "    </tr>\n",
       "    <tr>\n",
       "      <th>248</th>\n",
       "      <td>0.125977</td>\n",
       "      <td>-3.436448</td>\n",
       "    </tr>\n",
       "  </tbody>\n",
       "</table>\n",
       "<p>249 rows × 2 columns</p>\n",
       "</div>"
      ],
      "text/plain": [
       "          PC1       PC2\n",
       "0    1.474057  2.017902\n",
       "1    2.292116  2.241092\n",
       "2   -3.187195  0.957811\n",
       "3    0.867145 -2.053997\n",
       "4    3.410149  2.189773\n",
       "..        ...       ...\n",
       "244  1.881194  0.556845\n",
       "245  0.192433 -2.893684\n",
       "246 -2.403342 -1.527320\n",
       "247 -1.760116  0.435158\n",
       "248  0.125977 -3.436448\n",
       "\n",
       "[249 rows x 2 columns]"
      ]
     },
     "execution_count": 75,
     "metadata": {},
     "output_type": "execute_result"
    }
   ],
   "source": [
    "selected_columns = pca_X_train_DataFrame[[\"PC1\", \"PC2\"]]\n",
    "new_df = selected_columns.copy()\n",
    "new_df"
   ]
  },
  {
   "cell_type": "code",
   "execution_count": 76,
   "id": "4e7b324f",
   "metadata": {},
   "outputs": [
    {
     "data": {
      "text/plain": [
       "array([[<AxesSubplot:xlabel='PC1', ylabel='PC1'>,\n",
       "        <AxesSubplot:xlabel='PC2', ylabel='PC1'>],\n",
       "       [<AxesSubplot:xlabel='PC1', ylabel='PC2'>,\n",
       "        <AxesSubplot:xlabel='PC2', ylabel='PC2'>]], dtype=object)"
      ]
     },
     "execution_count": 76,
     "metadata": {},
     "output_type": "execute_result"
    },
    {
     "data": {
      "image/png": "[encoded data removed]",
      "text/plain": [
       "<Figure size 1080x1080 with 4 Axes>"
      ]
     },
     "metadata": {
      "needs_background": "light"
     },
     "output_type": "display_data"
    }
   ],
   "source": [
    "pd.plotting.scatter_matrix(new_df,\n",
    "                           c=y_train,\n",
    "                           figsize=(15,15),\n",
    "                           marker='o',\n",
    "                           hist_kwds = {'bins':20},\n",
    "                           s=60,\n",
    "                           alpha=0.8                        \n",
    "                          )"
   ]
  },
  {
   "cell_type": "markdown",
   "id": "30c8aaff",
   "metadata": {},
   "source": [
    "<b>SVM Gridsearch:</b>"
   ]
  },
  {
   "cell_type": "markdown",
   "id": "ded05945",
   "metadata": {},
   "source": [
    "leaving rbf, using poly only:"
   ]
  },
  {
   "cell_type": "code",
   "execution_count": 77,
   "id": "f6e9761a",
   "metadata": {},
   "outputs": [
    {
     "name": "stdout",
     "output_type": "stream",
     "text": [
      "Fitting 5 folds for each of 27 candidates, totalling 135 fits\n",
      "[CV 1/5] END ..........C=0.1, degree=2, gamma=1, kernel=poly; total time=   0.0s\n",
      "[CV 2/5] END ..........C=0.1, degree=2, gamma=1, kernel=poly; total time=   0.0s\n",
      "[CV 3/5] END ..........C=0.1, degree=2, gamma=1, kernel=poly; total time=   0.0s\n",
      "[CV 4/5] END ..........C=0.1, degree=2, gamma=1, kernel=poly; total time=   0.0s\n",
      "[CV 5/5] END ..........C=0.1, degree=2, gamma=1, kernel=poly; total time=   0.0s\n",
      "[CV 1/5] END ........C=0.1, degree=2, gamma=0.1, kernel=poly; total time=   0.0s\n",
      "[CV 2/5] END ........C=0.1, degree=2, gamma=0.1, kernel=poly; total time=   0.0s\n",
      "[CV 3/5] END ........C=0.1, degree=2, gamma=0.1, kernel=poly; total time=   0.0s\n",
      "[CV 4/5] END ........C=0.1, degree=2, gamma=0.1, kernel=poly; total time=   0.0s\n",
      "[CV 5/5] END ........C=0.1, degree=2, gamma=0.1, kernel=poly; total time=   0.0s\n",
      "[CV 1/5] END .......C=0.1, degree=2, gamma=0.01, kernel=poly; total time=   0.0s\n",
      "[CV 2/5] END .......C=0.1, degree=2, gamma=0.01, kernel=poly; total time=   0.0s\n",
      "[CV 3/5] END .......C=0.1, degree=2, gamma=0.01, kernel=poly; total time=   0.0s\n",
      "[CV 4/5] END .......C=0.1, degree=2, gamma=0.01, kernel=poly; total time=   0.0s\n",
      "[CV 5/5] END .......C=0.1, degree=2, gamma=0.01, kernel=poly; total time=   0.0s\n",
      "[CV 1/5] END ..........C=0.1, degree=3, gamma=1, kernel=poly; total time=   0.0s\n",
      "[CV 2/5] END ..........C=0.1, degree=3, gamma=1, kernel=poly; total time=   0.0s\n",
      "[CV 3/5] END ..........C=0.1, degree=3, gamma=1, kernel=poly; total time=   0.0s\n",
      "[CV 4/5] END ..........C=0.1, degree=3, gamma=1, kernel=poly; total time=   0.0s\n",
      "[CV 5/5] END ..........C=0.1, degree=3, gamma=1, kernel=poly; total time=   0.0s\n",
      "[CV 1/5] END ........C=0.1, degree=3, gamma=0.1, kernel=poly; total time=   0.0s\n",
      "[CV 2/5] END ........C=0.1, degree=3, gamma=0.1, kernel=poly; total time=   0.0s\n",
      "[CV 3/5] END ........C=0.1, degree=3, gamma=0.1, kernel=poly; total time=   0.0s\n",
      "[CV 4/5] END ........C=0.1, degree=3, gamma=0.1, kernel=poly; total time=   0.0s\n",
      "[CV 5/5] END ........C=0.1, degree=3, gamma=0.1, kernel=poly; total time=   0.0s\n",
      "[CV 1/5] END .......C=0.1, degree=3, gamma=0.01, kernel=poly; total time=   0.0s\n",
      "[CV 2/5] END .......C=0.1, degree=3, gamma=0.01, kernel=poly; total time=   0.0s\n",
      "[CV 3/5] END .......C=0.1, degree=3, gamma=0.01, kernel=poly; total time=   0.0s\n",
      "[CV 4/5] END .......C=0.1, degree=3, gamma=0.01, kernel=poly; total time=   0.0s\n",
      "[CV 5/5] END .......C=0.1, degree=3, gamma=0.01, kernel=poly; total time=   0.0s\n",
      "[CV 1/5] END ..........C=0.1, degree=4, gamma=1, kernel=poly; total time=   0.0s\n",
      "[CV 2/5] END ..........C=0.1, degree=4, gamma=1, kernel=poly; total time=   0.0s\n",
      "[CV 3/5] END ..........C=0.1, degree=4, gamma=1, kernel=poly; total time=   0.0s\n",
      "[CV 4/5] END ..........C=0.1, degree=4, gamma=1, kernel=poly; total time=   0.0s\n",
      "[CV 5/5] END ..........C=0.1, degree=4, gamma=1, kernel=poly; total time=   0.0s\n",
      "[CV 1/5] END ........C=0.1, degree=4, gamma=0.1, kernel=poly; total time=   0.0s\n",
      "[CV 2/5] END ........C=0.1, degree=4, gamma=0.1, kernel=poly; total time=   0.0s\n",
      "[CV 3/5] END ........C=0.1, degree=4, gamma=0.1, kernel=poly; total time=   0.0s\n",
      "[CV 4/5] END ........C=0.1, degree=4, gamma=0.1, kernel=poly; total time=   0.0s\n",
      "[CV 5/5] END ........C=0.1, degree=4, gamma=0.1, kernel=poly; total time=   0.0s\n",
      "[CV 1/5] END .......C=0.1, degree=4, gamma=0.01, kernel=poly; total time=   0.0s\n",
      "[CV 2/5] END .......C=0.1, degree=4, gamma=0.01, kernel=poly; total time=   0.0s\n",
      "[CV 3/5] END .......C=0.1, degree=4, gamma=0.01, kernel=poly; total time=   0.0s\n",
      "[CV 4/5] END .......C=0.1, degree=4, gamma=0.01, kernel=poly; total time=   0.0s\n",
      "[CV 5/5] END .......C=0.1, degree=4, gamma=0.01, kernel=poly; total time=   0.0s\n",
      "[CV 1/5] END ............C=1, degree=2, gamma=1, kernel=poly; total time=   0.0s\n",
      "[CV 2/5] END ............C=1, degree=2, gamma=1, kernel=poly; total time=   0.0s\n",
      "[CV 3/5] END ............C=1, degree=2, gamma=1, kernel=poly; total time=   0.0s\n",
      "[CV 4/5] END ............C=1, degree=2, gamma=1, kernel=poly; total time=   0.0s\n",
      "[CV 5/5] END ............C=1, degree=2, gamma=1, kernel=poly; total time=   0.0s\n",
      "[CV 1/5] END ..........C=1, degree=2, gamma=0.1, kernel=poly; total time=   0.0s\n",
      "[CV 2/5] END ..........C=1, degree=2, gamma=0.1, kernel=poly; total time=   0.0s\n",
      "[CV 3/5] END ..........C=1, degree=2, gamma=0.1, kernel=poly; total time=   0.0s\n",
      "[CV 4/5] END ..........C=1, degree=2, gamma=0.1, kernel=poly; total time=   0.0s\n",
      "[CV 5/5] END ..........C=1, degree=2, gamma=0.1, kernel=poly; total time=   0.0s\n",
      "[CV 1/5] END .........C=1, degree=2, gamma=0.01, kernel=poly; total time=   0.0s\n",
      "[CV 2/5] END .........C=1, degree=2, gamma=0.01, kernel=poly; total time=   0.0s\n",
      "[CV 3/5] END .........C=1, degree=2, gamma=0.01, kernel=poly; total time=   0.0s\n",
      "[CV 4/5] END .........C=1, degree=2, gamma=0.01, kernel=poly; total time=   0.0s\n",
      "[CV 5/5] END .........C=1, degree=2, gamma=0.01, kernel=poly; total time=   0.0s\n",
      "[CV 1/5] END ............C=1, degree=3, gamma=1, kernel=poly; total time=   0.0s\n",
      "[CV 2/5] END ............C=1, degree=3, gamma=1, kernel=poly; total time=   0.0s\n",
      "[CV 3/5] END ............C=1, degree=3, gamma=1, kernel=poly; total time=   0.0s\n",
      "[CV 4/5] END ............C=1, degree=3, gamma=1, kernel=poly; total time=   0.0s\n",
      "[CV 5/5] END ............C=1, degree=3, gamma=1, kernel=poly; total time=   0.0s\n",
      "[CV 1/5] END ..........C=1, degree=3, gamma=0.1, kernel=poly; total time=   0.0s\n",
      "[CV 2/5] END ..........C=1, degree=3, gamma=0.1, kernel=poly; total time=   0.0s\n",
      "[CV 3/5] END ..........C=1, degree=3, gamma=0.1, kernel=poly; total time=   0.0s\n",
      "[CV 4/5] END ..........C=1, degree=3, gamma=0.1, kernel=poly; total time=   0.0s\n",
      "[CV 5/5] END ..........C=1, degree=3, gamma=0.1, kernel=poly; total time=   0.0s\n",
      "[CV 1/5] END .........C=1, degree=3, gamma=0.01, kernel=poly; total time=   0.0s\n",
      "[CV 2/5] END .........C=1, degree=3, gamma=0.01, kernel=poly; total time=   0.0s\n",
      "[CV 3/5] END .........C=1, degree=3, gamma=0.01, kernel=poly; total time=   0.0s\n",
      "[CV 4/5] END .........C=1, degree=3, gamma=0.01, kernel=poly; total time=   0.0s\n",
      "[CV 5/5] END .........C=1, degree=3, gamma=0.01, kernel=poly; total time=   0.0s\n",
      "[CV 1/5] END ............C=1, degree=4, gamma=1, kernel=poly; total time=   0.0s\n",
      "[CV 2/5] END ............C=1, degree=4, gamma=1, kernel=poly; total time=   0.0s\n",
      "[CV 3/5] END ............C=1, degree=4, gamma=1, kernel=poly; total time=   0.0s\n",
      "[CV 4/5] END ............C=1, degree=4, gamma=1, kernel=poly; total time=   0.0s\n",
      "[CV 5/5] END ............C=1, degree=4, gamma=1, kernel=poly; total time=   0.0s\n",
      "[CV 1/5] END ..........C=1, degree=4, gamma=0.1, kernel=poly; total time=   0.0s\n",
      "[CV 2/5] END ..........C=1, degree=4, gamma=0.1, kernel=poly; total time=   0.0s\n",
      "[CV 3/5] END ..........C=1, degree=4, gamma=0.1, kernel=poly; total time=   0.0s\n",
      "[CV 4/5] END ..........C=1, degree=4, gamma=0.1, kernel=poly; total time=   0.0s\n",
      "[CV 5/5] END ..........C=1, degree=4, gamma=0.1, kernel=poly; total time=   0.0s\n",
      "[CV 1/5] END .........C=1, degree=4, gamma=0.01, kernel=poly; total time=   0.0s\n",
      "[CV 2/5] END .........C=1, degree=4, gamma=0.01, kernel=poly; total time=   0.0s\n",
      "[CV 3/5] END .........C=1, degree=4, gamma=0.01, kernel=poly; total time=   0.0s\n",
      "[CV 4/5] END .........C=1, degree=4, gamma=0.01, kernel=poly; total time=   0.0s\n",
      "[CV 5/5] END .........C=1, degree=4, gamma=0.01, kernel=poly; total time=   0.0s\n",
      "[CV 1/5] END ...........C=10, degree=2, gamma=1, kernel=poly; total time=   0.0s\n",
      "[CV 2/5] END ...........C=10, degree=2, gamma=1, kernel=poly; total time=   0.0s\n",
      "[CV 3/5] END ...........C=10, degree=2, gamma=1, kernel=poly; total time=   0.0s\n",
      "[CV 4/5] END ...........C=10, degree=2, gamma=1, kernel=poly; total time=   0.0s\n",
      "[CV 5/5] END ...........C=10, degree=2, gamma=1, kernel=poly; total time=   0.0s\n",
      "[CV 1/5] END .........C=10, degree=2, gamma=0.1, kernel=poly; total time=   0.0s\n",
      "[CV 2/5] END .........C=10, degree=2, gamma=0.1, kernel=poly; total time=   0.0s\n",
      "[CV 3/5] END .........C=10, degree=2, gamma=0.1, kernel=poly; total time=   0.0s\n",
      "[CV 4/5] END .........C=10, degree=2, gamma=0.1, kernel=poly; total time=   0.0s\n",
      "[CV 5/5] END .........C=10, degree=2, gamma=0.1, kernel=poly; total time=   0.0s\n",
      "[CV 1/5] END ........C=10, degree=2, gamma=0.01, kernel=poly; total time=   0.0s\n",
      "[CV 2/5] END ........C=10, degree=2, gamma=0.01, kernel=poly; total time=   0.0s\n",
      "[CV 3/5] END ........C=10, degree=2, gamma=0.01, kernel=poly; total time=   0.0s\n",
      "[CV 4/5] END ........C=10, degree=2, gamma=0.01, kernel=poly; total time=   0.0s\n",
      "[CV 5/5] END ........C=10, degree=2, gamma=0.01, kernel=poly; total time=   0.0s\n",
      "[CV 1/5] END ...........C=10, degree=3, gamma=1, kernel=poly; total time=   0.0s\n",
      "[CV 2/5] END ...........C=10, degree=3, gamma=1, kernel=poly; total time=   0.0s\n",
      "[CV 3/5] END ...........C=10, degree=3, gamma=1, kernel=poly; total time=   0.0s\n",
      "[CV 4/5] END ...........C=10, degree=3, gamma=1, kernel=poly; total time=   0.0s\n",
      "[CV 5/5] END ...........C=10, degree=3, gamma=1, kernel=poly; total time=   0.0s\n",
      "[CV 1/5] END .........C=10, degree=3, gamma=0.1, kernel=poly; total time=   0.0s\n",
      "[CV 2/5] END .........C=10, degree=3, gamma=0.1, kernel=poly; total time=   0.0s\n",
      "[CV 3/5] END .........C=10, degree=3, gamma=0.1, kernel=poly; total time=   0.0s\n",
      "[CV 4/5] END .........C=10, degree=3, gamma=0.1, kernel=poly; total time=   0.0s\n",
      "[CV 5/5] END .........C=10, degree=3, gamma=0.1, kernel=poly; total time=   0.0s\n",
      "[CV 1/5] END ........C=10, degree=3, gamma=0.01, kernel=poly; total time=   0.0s\n",
      "[CV 2/5] END ........C=10, degree=3, gamma=0.01, kernel=poly; total time=   0.0s\n",
      "[CV 3/5] END ........C=10, degree=3, gamma=0.01, kernel=poly; total time=   0.0s\n",
      "[CV 4/5] END ........C=10, degree=3, gamma=0.01, kernel=poly; total time=   0.0s\n",
      "[CV 5/5] END ........C=10, degree=3, gamma=0.01, kernel=poly; total time=   0.0s\n",
      "[CV 1/5] END ...........C=10, degree=4, gamma=1, kernel=poly; total time=   0.0s\n",
      "[CV 2/5] END ...........C=10, degree=4, gamma=1, kernel=poly; total time=   0.0s\n",
      "[CV 3/5] END ...........C=10, degree=4, gamma=1, kernel=poly; total time=   0.0s\n",
      "[CV 4/5] END ...........C=10, degree=4, gamma=1, kernel=poly; total time=   0.0s\n",
      "[CV 5/5] END ...........C=10, degree=4, gamma=1, kernel=poly; total time=   0.0s\n",
      "[CV 1/5] END .........C=10, degree=4, gamma=0.1, kernel=poly; total time=   0.0s\n",
      "[CV 2/5] END .........C=10, degree=4, gamma=0.1, kernel=poly; total time=   0.0s\n",
      "[CV 3/5] END .........C=10, degree=4, gamma=0.1, kernel=poly; total time=   0.0s\n",
      "[CV 4/5] END .........C=10, degree=4, gamma=0.1, kernel=poly; total time=   0.0s\n",
      "[CV 5/5] END .........C=10, degree=4, gamma=0.1, kernel=poly; total time=   0.0s\n",
      "[CV 1/5] END ........C=10, degree=4, gamma=0.01, kernel=poly; total time=   0.0s\n",
      "[CV 2/5] END ........C=10, degree=4, gamma=0.01, kernel=poly; total time=   0.0s\n",
      "[CV 3/5] END ........C=10, degree=4, gamma=0.01, kernel=poly; total time=   0.0s\n",
      "[CV 4/5] END ........C=10, degree=4, gamma=0.01, kernel=poly; total time=   0.0s\n",
      "[CV 5/5] END ........C=10, degree=4, gamma=0.01, kernel=poly; total time=   0.0s\n"
     ]
    },
    {
     "data": {
      "text/plain": [
       "GridSearchCV(estimator=SVC(),\n",
       "             param_grid={'C': [0.1, 1, 10], 'degree': [2, 3, 4],\n",
       "                         'gamma': [1, 0.1, 0.01], 'kernel': ['poly']},\n",
       "             verbose=3)"
      ]
     },
     "execution_count": 77,
     "metadata": {},
     "output_type": "execute_result"
    }
   ],
   "source": [
    "from sklearn.model_selection import GridSearchCV\n",
    "from sklearn.svm import SVC\n",
    "\n",
    "param_1_svm = {'C': [0.1, 1, 10],\n",
    "              'gamma': [1, 0.1, 0.01],\n",
    "              'kernel': ['poly'],\n",
    "              'degree' : [2,3,4]\n",
    "              } \n",
    "  \n",
    "grid_model_1_svm = GridSearchCV(SVC(), param_1_svm, refit = True, verbose = 3)\n",
    "  \n",
    "    \n",
    "grid_model_1_svm.fit(pca_X_train, y_train)"
   ]
  },
  {
   "cell_type": "code",
   "execution_count": 78,
   "id": "76d81caf",
   "metadata": {},
   "outputs": [
    {
     "name": "stdout",
     "output_type": "stream",
     "text": [
      "{'C': 0.1, 'degree': 3, 'gamma': 1, 'kernel': 'poly'}\n",
      "SVC(C=0.1, gamma=1, kernel='poly')\n"
     ]
    }
   ],
   "source": [
    "print(grid_model_1_svm.best_params_)\n",
    "print(grid_model_1_svm.best_estimator_)"
   ]
  },
  {
   "cell_type": "code",
   "execution_count": 79,
   "id": "33b4bbef",
   "metadata": {},
   "outputs": [
    {
     "name": "stdout",
     "output_type": "stream",
     "text": [
      "========== SVM 1 Results ==========\n",
      "Accuracy    :  1.0\n",
      "Recall      :  1.0\n",
      "Precision   :  1.0\n",
      "F1 Score    :  1.0\n",
      "Confusion Matrix: \n",
      "[[37  0  0]\n",
      " [ 0 17  0]\n",
      " [ 0  0 30]]\n"
     ]
    }
   ],
   "source": [
    "from sklearn import metrics\n",
    "from sklearn.metrics import precision_score, recall_score, confusion_matrix, classification_report, accuracy_score, f1_score\n",
    "\n",
    "\n",
    "model_1_svm = SVC(C=0.1, degree=3, gamma=1, kernel='poly')\n",
    "model_1_svm.fit(pca_X_train, y_train)\n",
    "  \n",
    "y_pred_svm_1 = model_1_svm.predict(pca_X_test)\n",
    "\n",
    "ac_score_svm_1 = accuracy_score(y_test, y_pred_svm_1)\n",
    "rc_score_svm_1 = recall_score(y_test, y_pred_svm_1, average=\"weighted\")\n",
    "pr_score_svm_1 = precision_score(y_test, y_pred_svm_1, average=\"weighted\")\n",
    "f1_score_svm_1 = f1_score(y_test, y_pred_svm_1, average='micro')\n",
    "confusion_matrix_svm_1 = confusion_matrix(y_test, y_pred_svm_1)\n",
    "\n",
    "print(\"========== SVM 1 Results ==========\")\n",
    "print(\"Accuracy    : \", ac_score_svm_1)\n",
    "print(\"Recall      : \", rc_score_svm_1)\n",
    "print(\"Precision   : \", pr_score_svm_1)\n",
    "print(\"F1 Score    : \", f1_score_svm_1)\n",
    "print(\"Confusion Matrix: \")\n",
    "print(confusion_matrix_svm_1)\n"
   ]
  },
  {
   "cell_type": "markdown",
   "id": "a3106831",
   "metadata": {},
   "source": [
    "leaving poly, keeping rbf"
   ]
  },
  {
   "cell_type": "code",
   "execution_count": 80,
   "id": "7674e2e9",
   "metadata": {},
   "outputs": [
    {
     "name": "stdout",
     "output_type": "stream",
     "text": [
      "Fitting 5 folds for each of 9 candidates, totalling 45 fits\n",
      "[CV 1/5] END .....................C=0.1, gamma=1, kernel=rbf; total time=   0.0s\n",
      "[CV 2/5] END .....................C=0.1, gamma=1, kernel=rbf; total time=   0.0s\n",
      "[CV 3/5] END .....................C=0.1, gamma=1, kernel=rbf; total time=   0.0s\n",
      "[CV 4/5] END .....................C=0.1, gamma=1, kernel=rbf; total time=   0.0s\n",
      "[CV 5/5] END .....................C=0.1, gamma=1, kernel=rbf; total time=   0.0s\n",
      "[CV 1/5] END ...................C=0.1, gamma=0.1, kernel=rbf; total time=   0.0s\n",
      "[CV 2/5] END ...................C=0.1, gamma=0.1, kernel=rbf; total time=   0.0s\n",
      "[CV 3/5] END ...................C=0.1, gamma=0.1, kernel=rbf; total time=   0.0s\n",
      "[CV 4/5] END ...................C=0.1, gamma=0.1, kernel=rbf; total time=   0.0s\n",
      "[CV 5/5] END ...................C=0.1, gamma=0.1, kernel=rbf; total time=   0.0s\n",
      "[CV 1/5] END ..................C=0.1, gamma=0.01, kernel=rbf; total time=   0.0s\n",
      "[CV 2/5] END ..................C=0.1, gamma=0.01, kernel=rbf; total time=   0.0s\n",
      "[CV 3/5] END ..................C=0.1, gamma=0.01, kernel=rbf; total time=   0.0s\n",
      "[CV 4/5] END ..................C=0.1, gamma=0.01, kernel=rbf; total time=   0.0s\n",
      "[CV 5/5] END ..................C=0.1, gamma=0.01, kernel=rbf; total time=   0.0s\n",
      "[CV 1/5] END .......................C=1, gamma=1, kernel=rbf; total time=   0.0s\n",
      "[CV 2/5] END .......................C=1, gamma=1, kernel=rbf; total time=   0.0s\n",
      "[CV 3/5] END .......................C=1, gamma=1, kernel=rbf; total time=   0.0s\n",
      "[CV 4/5] END .......................C=1, gamma=1, kernel=rbf; total time=   0.0s\n",
      "[CV 5/5] END .......................C=1, gamma=1, kernel=rbf; total time=   0.0s\n",
      "[CV 1/5] END .....................C=1, gamma=0.1, kernel=rbf; total time=   0.0s\n",
      "[CV 2/5] END .....................C=1, gamma=0.1, kernel=rbf; total time=   0.0s\n",
      "[CV 3/5] END .....................C=1, gamma=0.1, kernel=rbf; total time=   0.0s\n",
      "[CV 4/5] END .....................C=1, gamma=0.1, kernel=rbf; total time=   0.0s\n",
      "[CV 5/5] END .....................C=1, gamma=0.1, kernel=rbf; total time=   0.0s\n",
      "[CV 1/5] END ....................C=1, gamma=0.01, kernel=rbf; total time=   0.0s\n",
      "[CV 2/5] END ....................C=1, gamma=0.01, kernel=rbf; total time=   0.0s\n",
      "[CV 3/5] END ....................C=1, gamma=0.01, kernel=rbf; total time=   0.0s\n",
      "[CV 4/5] END ....................C=1, gamma=0.01, kernel=rbf; total time=   0.0s\n",
      "[CV 5/5] END ....................C=1, gamma=0.01, kernel=rbf; total time=   0.0s\n",
      "[CV 1/5] END ......................C=10, gamma=1, kernel=rbf; total time=   0.0s\n",
      "[CV 2/5] END ......................C=10, gamma=1, kernel=rbf; total time=   0.0s\n",
      "[CV 3/5] END ......................C=10, gamma=1, kernel=rbf; total time=   0.0s\n",
      "[CV 4/5] END ......................C=10, gamma=1, kernel=rbf; total time=   0.0s\n",
      "[CV 5/5] END ......................C=10, gamma=1, kernel=rbf; total time=   0.0s\n",
      "[CV 1/5] END ....................C=10, gamma=0.1, kernel=rbf; total time=   0.0s\n",
      "[CV 2/5] END ....................C=10, gamma=0.1, kernel=rbf; total time=   0.0s\n",
      "[CV 3/5] END ....................C=10, gamma=0.1, kernel=rbf; total time=   0.0s\n",
      "[CV 4/5] END ....................C=10, gamma=0.1, kernel=rbf; total time=   0.0s\n",
      "[CV 5/5] END ....................C=10, gamma=0.1, kernel=rbf; total time=   0.0s\n",
      "[CV 1/5] END ...................C=10, gamma=0.01, kernel=rbf; total time=   0.0s\n",
      "[CV 2/5] END ...................C=10, gamma=0.01, kernel=rbf; total time=   0.0s\n",
      "[CV 3/5] END ...................C=10, gamma=0.01, kernel=rbf; total time=   0.0s\n",
      "[CV 4/5] END ...................C=10, gamma=0.01, kernel=rbf; total time=   0.0s\n",
      "[CV 5/5] END ...................C=10, gamma=0.01, kernel=rbf; total time=   0.0s\n"
     ]
    },
    {
     "data": {
      "text/plain": [
       "GridSearchCV(estimator=SVC(),\n",
       "             param_grid={'C': [0.1, 1, 10], 'gamma': [1, 0.1, 0.01],\n",
       "                         'kernel': ['rbf']},\n",
       "             verbose=3)"
      ]
     },
     "execution_count": 80,
     "metadata": {},
     "output_type": "execute_result"
    }
   ],
   "source": [
    "param_2_svm = {'C': [0.1, 1, 10],\n",
    "              'gamma': [1, 0.1, 0.01],\n",
    "              'kernel': ['rbf']}\n",
    "  \n",
    "grid_model_2_svm = GridSearchCV(SVC(), param_2_svm, refit = True, verbose = 3)\n",
    "  \n",
    "grid_model_2_svm.fit(pca_X_train, y_train)"
   ]
  },
  {
   "cell_type": "code",
   "execution_count": 81,
   "id": "6aaf6084",
   "metadata": {},
   "outputs": [
    {
     "name": "stdout",
     "output_type": "stream",
     "text": [
      "{'C': 1, 'gamma': 0.01, 'kernel': 'rbf'}\n",
      "SVC(C=1, gamma=0.01)\n"
     ]
    }
   ],
   "source": [
    "print(grid_model_2_svm.best_params_)\n",
    "print(grid_model_2_svm.best_estimator_)"
   ]
  },
  {
   "cell_type": "code",
   "execution_count": 82,
   "id": "b91a766a",
   "metadata": {},
   "outputs": [
    {
     "name": "stdout",
     "output_type": "stream",
     "text": [
      "========== SVM 2 Results ==========\n",
      "Accuracy    :  1.0\n",
      "Recall      :  1.0\n",
      "Precision   :  1.0\n",
      "F1 Score    :  1.0\n",
      "Confusion Matrix: \n",
      "[[37  0  0]\n",
      " [ 0 17  0]\n",
      " [ 0  0 30]]\n"
     ]
    }
   ],
   "source": [
    "model_2_svm = SVC(C=1, gamma=0.01, kernel='rbf')\n",
    "model_2_svm.fit(pca_X_train, y_train)\n",
    "  \n",
    "y_pred_svm_2 = model_2_svm.predict(pca_X_test)\n",
    "\n",
    "ac_score_svm_2 = accuracy_score(y_test, y_pred_svm_2)\n",
    "rc_score_svm_2 = recall_score(y_test, y_pred_svm_2, average=\"weighted\")\n",
    "pr_score_svm_2 = precision_score(y_test, y_pred_svm_2, average=\"weighted\")\n",
    "f1_score_svm_2 = f1_score(y_test, y_pred_svm_2, average='micro')\n",
    "confusion_matrix_svm_2 = confusion_matrix(y_test, y_pred_svm_2)\n",
    "\n",
    "print(\"========== SVM 2 Results ==========\")\n",
    "print(\"Accuracy    : \", ac_score_svm_2)\n",
    "print(\"Recall      : \", rc_score_svm_2)\n",
    "print(\"Precision   : \", pr_score_svm_2)\n",
    "print(\"F1 Score    : \", f1_score_svm_2)\n",
    "print(\"Confusion Matrix: \")\n",
    "print(confusion_matrix_svm_2)\n"
   ]
  },
  {
   "cell_type": "markdown",
   "id": "3dcff05b",
   "metadata": {},
   "source": [
    "<b>KNN Gridsearch:</b>"
   ]
  },
  {
   "cell_type": "code",
   "execution_count": 83,
   "id": "7ccba035",
   "metadata": {},
   "outputs": [
    {
     "name": "stdout",
     "output_type": "stream",
     "text": [
      "Fitting 5 folds for each of 100 candidates, totalling 500 fits\n",
      "[CV 1/5] END ..................................n_neighbors=1; total time=   0.0s\n",
      "[CV 2/5] END ..................................n_neighbors=1; total time=   0.0s\n",
      "[CV 3/5] END ..................................n_neighbors=1; total time=   0.0s\n",
      "[CV 4/5] END ..................................n_neighbors=1; total time=   0.0s\n",
      "[CV 5/5] END ..................................n_neighbors=1; total time=   0.0s\n",
      "[CV 1/5] END ..................................n_neighbors=2; total time=   0.0s\n",
      "[CV 2/5] END ..................................n_neighbors=2; total time=   0.0s\n",
      "[CV 3/5] END ..................................n_neighbors=2; total time=   0.0s\n",
      "[CV 4/5] END ..................................n_neighbors=2; total time=   0.0s\n",
      "[CV 5/5] END ..................................n_neighbors=2; total time=   0.0s\n",
      "[CV 1/5] END ..................................n_neighbors=3; total time=   0.0s\n",
      "[CV 2/5] END ..................................n_neighbors=3; total time=   0.0s\n",
      "[CV 3/5] END ..................................n_neighbors=3; total time=   0.0s\n",
      "[CV 4/5] END ..................................n_neighbors=3; total time=   0.0s\n",
      "[CV 5/5] END ..................................n_neighbors=3; total time=   0.0s\n",
      "[CV 1/5] END ..................................n_neighbors=4; total time=   0.0s\n",
      "[CV 2/5] END ..................................n_neighbors=4; total time=   0.0s\n",
      "[CV 3/5] END ..................................n_neighbors=4; total time=   0.0s\n",
      "[CV 4/5] END ..................................n_neighbors=4; total time=   0.0s\n",
      "[CV 5/5] END ..................................n_neighbors=4; total time=   0.0s\n",
      "[CV 1/5] END ..................................n_neighbors=5; total time=   0.0s\n",
      "[CV 2/5] END ..................................n_neighbors=5; total time=   0.0s\n",
      "[CV 3/5] END ..................................n_neighbors=5; total time=   0.0s\n",
      "[CV 4/5] END ..................................n_neighbors=5; total time=   0.0s\n",
      "[CV 5/5] END ..................................n_neighbors=5; total time=   0.0s\n",
      "[CV 1/5] END ..................................n_neighbors=6; total time=   0.0s\n",
      "[CV 2/5] END ..................................n_neighbors=6; total time=   0.0s\n",
      "[CV 3/5] END ..................................n_neighbors=6; total time=   0.0s\n",
      "[CV 4/5] END ..................................n_neighbors=6; total time=   0.0s\n",
      "[CV 5/5] END ..................................n_neighbors=6; total time=   0.0s\n",
      "[CV 1/5] END ..................................n_neighbors=7; total time=   0.0s\n",
      "[CV 2/5] END ..................................n_neighbors=7; total time=   0.0s\n",
      "[CV 3/5] END ..................................n_neighbors=7; total time=   0.0s\n",
      "[CV 4/5] END ..................................n_neighbors=7; total time=   0.0s\n",
      "[CV 5/5] END ..................................n_neighbors=7; total time=   0.0s\n",
      "[CV 1/5] END ..................................n_neighbors=8; total time=   0.0s\n",
      "[CV 2/5] END ..................................n_neighbors=8; total time=   0.0s\n",
      "[CV 3/5] END ..................................n_neighbors=8; total time=   0.0s\n",
      "[CV 4/5] END ..................................n_neighbors=8; total time=   0.0s\n",
      "[CV 5/5] END ..................................n_neighbors=8; total time=   0.0s\n",
      "[CV 1/5] END ..................................n_neighbors=9; total time=   0.0s\n",
      "[CV 2/5] END ..................................n_neighbors=9; total time=   0.0s\n",
      "[CV 3/5] END ..................................n_neighbors=9; total time=   0.0s\n",
      "[CV 4/5] END ..................................n_neighbors=9; total time=   0.0s\n",
      "[CV 5/5] END ..................................n_neighbors=9; total time=   0.0s\n",
      "[CV 1/5] END .................................n_neighbors=10; total time=   0.0s\n",
      "[CV 2/5] END .................................n_neighbors=10; total time=   0.0s\n",
      "[CV 3/5] END .................................n_neighbors=10; total time=   0.0s\n",
      "[CV 4/5] END .................................n_neighbors=10; total time=   0.0s\n",
      "[CV 5/5] END .................................n_neighbors=10; total time=   0.0s\n",
      "[CV 1/5] END .................................n_neighbors=11; total time=   0.0s\n",
      "[CV 2/5] END .................................n_neighbors=11; total time=   0.0s\n",
      "[CV 3/5] END .................................n_neighbors=11; total time=   0.0s\n",
      "[CV 4/5] END .................................n_neighbors=11; total time=   0.0s\n",
      "[CV 5/5] END .................................n_neighbors=11; total time=   0.0s\n",
      "[CV 1/5] END .................................n_neighbors=12; total time=   0.0s\n",
      "[CV 2/5] END .................................n_neighbors=12; total time=   0.0s\n",
      "[CV 3/5] END .................................n_neighbors=12; total time=   0.0s\n",
      "[CV 4/5] END .................................n_neighbors=12; total time=   0.0s\n",
      "[CV 5/5] END .................................n_neighbors=12; total time=   0.0s\n",
      "[CV 1/5] END .................................n_neighbors=13; total time=   0.0s\n",
      "[CV 2/5] END .................................n_neighbors=13; total time=   0.0s\n",
      "[CV 3/5] END .................................n_neighbors=13; total time=   0.0s\n",
      "[CV 4/5] END .................................n_neighbors=13; total time=   0.0s\n",
      "[CV 5/5] END .................................n_neighbors=13; total time=   0.0s\n",
      "[CV 1/5] END .................................n_neighbors=14; total time=   0.0s\n",
      "[CV 2/5] END .................................n_neighbors=14; total time=   0.0s\n",
      "[CV 3/5] END .................................n_neighbors=14; total time=   0.0s\n",
      "[CV 4/5] END .................................n_neighbors=14; total time=   0.0s\n",
      "[CV 5/5] END .................................n_neighbors=14; total time=   0.0s\n",
      "[CV 1/5] END .................................n_neighbors=15; total time=   0.0s\n",
      "[CV 2/5] END .................................n_neighbors=15; total time=   0.0s\n",
      "[CV 3/5] END .................................n_neighbors=15; total time=   0.0s\n",
      "[CV 4/5] END .................................n_neighbors=15; total time=   0.0s\n",
      "[CV 5/5] END .................................n_neighbors=15; total time=   0.0s\n",
      "[CV 1/5] END .................................n_neighbors=16; total time=   0.0s\n",
      "[CV 2/5] END .................................n_neighbors=16; total time=   0.0s\n",
      "[CV 3/5] END .................................n_neighbors=16; total time=   0.0s\n",
      "[CV 4/5] END .................................n_neighbors=16; total time=   0.0s\n",
      "[CV 5/5] END .................................n_neighbors=16; total time=   0.0s\n",
      "[CV 1/5] END .................................n_neighbors=17; total time=   0.0s\n",
      "[CV 2/5] END .................................n_neighbors=17; total time=   0.0s\n",
      "[CV 3/5] END .................................n_neighbors=17; total time=   0.0s\n",
      "[CV 4/5] END .................................n_neighbors=17; total time=   0.0s\n",
      "[CV 5/5] END .................................n_neighbors=17; total time=   0.0s\n",
      "[CV 1/5] END .................................n_neighbors=18; total time=   0.0s\n",
      "[CV 2/5] END .................................n_neighbors=18; total time=   0.0s\n",
      "[CV 3/5] END .................................n_neighbors=18; total time=   0.0s\n",
      "[CV 4/5] END .................................n_neighbors=18; total time=   0.0s\n",
      "[CV 5/5] END .................................n_neighbors=18; total time=   0.0s\n",
      "[CV 1/5] END .................................n_neighbors=19; total time=   0.0s\n",
      "[CV 2/5] END .................................n_neighbors=19; total time=   0.0s\n",
      "[CV 3/5] END .................................n_neighbors=19; total time=   0.0s\n",
      "[CV 4/5] END .................................n_neighbors=19; total time=   0.0s\n",
      "[CV 5/5] END .................................n_neighbors=19; total time=   0.0s\n",
      "[CV 1/5] END .................................n_neighbors=20; total time=   0.0s\n",
      "[CV 2/5] END .................................n_neighbors=20; total time=   0.0s\n",
      "[CV 3/5] END .................................n_neighbors=20; total time=   0.0s\n",
      "[CV 4/5] END .................................n_neighbors=20; total time=   0.0s\n",
      "[CV 5/5] END .................................n_neighbors=20; total time=   0.0s\n",
      "[CV 1/5] END .................................n_neighbors=21; total time=   0.0s\n",
      "[CV 2/5] END .................................n_neighbors=21; total time=   0.0s\n",
      "[CV 3/5] END .................................n_neighbors=21; total time=   0.0s\n",
      "[CV 4/5] END .................................n_neighbors=21; total time=   0.0s\n",
      "[CV 5/5] END .................................n_neighbors=21; total time=   0.0s\n",
      "[CV 1/5] END .................................n_neighbors=22; total time=   0.0s\n",
      "[CV 2/5] END .................................n_neighbors=22; total time=   0.0s\n",
      "[CV 3/5] END .................................n_neighbors=22; total time=   0.0s\n",
      "[CV 4/5] END .................................n_neighbors=22; total time=   0.0s\n",
      "[CV 5/5] END .................................n_neighbors=22; total time=   0.0s\n",
      "[CV 1/5] END .................................n_neighbors=23; total time=   0.0s\n",
      "[CV 2/5] END .................................n_neighbors=23; total time=   0.0s\n",
      "[CV 3/5] END .................................n_neighbors=23; total time=   0.0s\n",
      "[CV 4/5] END .................................n_neighbors=23; total time=   0.0s\n",
      "[CV 5/5] END .................................n_neighbors=23; total time=   0.0s\n",
      "[CV 1/5] END .................................n_neighbors=24; total time=   0.0s\n",
      "[CV 2/5] END .................................n_neighbors=24; total time=   0.0s\n",
      "[CV 3/5] END .................................n_neighbors=24; total time=   0.0s\n",
      "[CV 4/5] END .................................n_neighbors=24; total time=   0.0s\n",
      "[CV 5/5] END .................................n_neighbors=24; total time=   0.0s\n",
      "[CV 1/5] END .................................n_neighbors=25; total time=   0.0s\n",
      "[CV 2/5] END .................................n_neighbors=25; total time=   0.0s\n",
      "[CV 3/5] END .................................n_neighbors=25; total time=   0.0s\n",
      "[CV 4/5] END .................................n_neighbors=25; total time=   0.0s\n",
      "[CV 5/5] END .................................n_neighbors=25; total time=   0.0s\n",
      "[CV 1/5] END .................................n_neighbors=26; total time=   0.0s\n",
      "[CV 2/5] END .................................n_neighbors=26; total time=   0.0s\n",
      "[CV 3/5] END .................................n_neighbors=26; total time=   0.0s\n",
      "[CV 4/5] END .................................n_neighbors=26; total time=   0.0s\n",
      "[CV 5/5] END .................................n_neighbors=26; total time=   0.0s\n",
      "[CV 1/5] END .................................n_neighbors=27; total time=   0.0s\n",
      "[CV 2/5] END .................................n_neighbors=27; total time=   0.0s\n",
      "[CV 3/5] END .................................n_neighbors=27; total time=   0.0s\n",
      "[CV 4/5] END .................................n_neighbors=27; total time=   0.0s\n",
      "[CV 5/5] END .................................n_neighbors=27; total time=   0.0s\n",
      "[CV 1/5] END .................................n_neighbors=28; total time=   0.0s\n",
      "[CV 2/5] END .................................n_neighbors=28; total time=   0.0s\n",
      "[CV 3/5] END .................................n_neighbors=28; total time=   0.0s\n",
      "[CV 4/5] END .................................n_neighbors=28; total time=   0.0s\n",
      "[CV 5/5] END .................................n_neighbors=28; total time=   0.0s\n",
      "[CV 1/5] END .................................n_neighbors=29; total time=   0.0s\n",
      "[CV 2/5] END .................................n_neighbors=29; total time=   0.0s\n",
      "[CV 3/5] END .................................n_neighbors=29; total time=   0.0s\n",
      "[CV 4/5] END .................................n_neighbors=29; total time=   0.0s\n",
      "[CV 5/5] END .................................n_neighbors=29; total time=   0.0s\n",
      "[CV 1/5] END .................................n_neighbors=30; total time=   0.0s\n",
      "[CV 2/5] END .................................n_neighbors=30; total time=   0.0s\n",
      "[CV 3/5] END .................................n_neighbors=30; total time=   0.0s\n",
      "[CV 4/5] END .................................n_neighbors=30; total time=   0.0s\n",
      "[CV 5/5] END .................................n_neighbors=30; total time=   0.0s\n",
      "[CV 1/5] END .................................n_neighbors=31; total time=   0.0s\n",
      "[CV 2/5] END .................................n_neighbors=31; total time=   0.0s\n",
      "[CV 3/5] END .................................n_neighbors=31; total time=   0.0s\n",
      "[CV 4/5] END .................................n_neighbors=31; total time=   0.0s\n",
      "[CV 5/5] END .................................n_neighbors=31; total time=   0.0s\n",
      "[CV 1/5] END .................................n_neighbors=32; total time=   0.0s\n",
      "[CV 2/5] END .................................n_neighbors=32; total time=   0.0s\n",
      "[CV 3/5] END .................................n_neighbors=32; total time=   0.0s\n",
      "[CV 4/5] END .................................n_neighbors=32; total time=   0.0s\n",
      "[CV 5/5] END .................................n_neighbors=32; total time=   0.0s\n",
      "[CV 1/5] END .................................n_neighbors=33; total time=   0.0s\n",
      "[CV 2/5] END .................................n_neighbors=33; total time=   0.0s\n",
      "[CV 3/5] END .................................n_neighbors=33; total time=   0.0s\n",
      "[CV 4/5] END .................................n_neighbors=33; total time=   0.0s\n",
      "[CV 5/5] END .................................n_neighbors=33; total time=   0.0s\n",
      "[CV 1/5] END .................................n_neighbors=34; total time=   0.0s\n",
      "[CV 2/5] END .................................n_neighbors=34; total time=   0.0s\n",
      "[CV 3/5] END .................................n_neighbors=34; total time=   0.0s\n",
      "[CV 4/5] END .................................n_neighbors=34; total time=   0.0s\n",
      "[CV 5/5] END .................................n_neighbors=34; total time=   0.0s\n",
      "[CV 1/5] END .................................n_neighbors=35; total time=   0.0s\n",
      "[CV 2/5] END .................................n_neighbors=35; total time=   0.0s\n",
      "[CV 3/5] END .................................n_neighbors=35; total time=   0.0s\n",
      "[CV 4/5] END .................................n_neighbors=35; total time=   0.0s\n",
      "[CV 5/5] END .................................n_neighbors=35; total time=   0.0s\n",
      "[CV 1/5] END .................................n_neighbors=36; total time=   0.0s\n",
      "[CV 2/5] END .................................n_neighbors=36; total time=   0.0s\n",
      "[CV 3/5] END .................................n_neighbors=36; total time=   0.0s\n",
      "[CV 4/5] END .................................n_neighbors=36; total time=   0.0s\n",
      "[CV 5/5] END .................................n_neighbors=36; total time=   0.0s\n",
      "[CV 1/5] END .................................n_neighbors=37; total time=   0.0s\n",
      "[CV 2/5] END .................................n_neighbors=37; total time=   0.0s\n",
      "[CV 3/5] END .................................n_neighbors=37; total time=   0.0s\n",
      "[CV 4/5] END .................................n_neighbors=37; total time=   0.0s\n",
      "[CV 5/5] END .................................n_neighbors=37; total time=   0.0s\n",
      "[CV 1/5] END .................................n_neighbors=38; total time=   0.0s\n",
      "[CV 2/5] END .................................n_neighbors=38; total time=   0.0s\n",
      "[CV 3/5] END .................................n_neighbors=38; total time=   0.0s\n",
      "[CV 4/5] END .................................n_neighbors=38; total time=   0.0s\n",
      "[CV 5/5] END .................................n_neighbors=38; total time=   0.0s\n",
      "[CV 1/5] END .................................n_neighbors=39; total time=   0.0s\n",
      "[CV 2/5] END .................................n_neighbors=39; total time=   0.0s\n",
      "[CV 3/5] END .................................n_neighbors=39; total time=   0.0s\n",
      "[CV 4/5] END .................................n_neighbors=39; total time=   0.0s\n",
      "[CV 5/5] END .................................n_neighbors=39; total time=   0.0s\n",
      "[CV 1/5] END .................................n_neighbors=40; total time=   0.0s\n",
      "[CV 2/5] END .................................n_neighbors=40; total time=   0.0s\n",
      "[CV 3/5] END .................................n_neighbors=40; total time=   0.0s\n",
      "[CV 4/5] END .................................n_neighbors=40; total time=   0.0s\n",
      "[CV 5/5] END .................................n_neighbors=40; total time=   0.0s\n",
      "[CV 1/5] END .................................n_neighbors=41; total time=   0.0s\n",
      "[CV 2/5] END .................................n_neighbors=41; total time=   0.0s\n",
      "[CV 3/5] END .................................n_neighbors=41; total time=   0.0s\n",
      "[CV 4/5] END .................................n_neighbors=41; total time=   0.0s\n",
      "[CV 5/5] END .................................n_neighbors=41; total time=   0.0s\n",
      "[CV 1/5] END .................................n_neighbors=42; total time=   0.0s\n",
      "[CV 2/5] END .................................n_neighbors=42; total time=   0.0s\n",
      "[CV 3/5] END .................................n_neighbors=42; total time=   0.0s\n",
      "[CV 4/5] END .................................n_neighbors=42; total time=   0.0s\n",
      "[CV 5/5] END .................................n_neighbors=42; total time=   0.0s\n",
      "[CV 1/5] END .................................n_neighbors=43; total time=   0.0s\n",
      "[CV 2/5] END .................................n_neighbors=43; total time=   0.0s\n",
      "[CV 3/5] END .................................n_neighbors=43; total time=   0.0s\n",
      "[CV 4/5] END .................................n_neighbors=43; total time=   0.0s\n",
      "[CV 5/5] END .................................n_neighbors=43; total time=   0.0s\n",
      "[CV 1/5] END .................................n_neighbors=44; total time=   0.0s\n",
      "[CV 2/5] END .................................n_neighbors=44; total time=   0.0s\n",
      "[CV 3/5] END .................................n_neighbors=44; total time=   0.0s\n",
      "[CV 4/5] END .................................n_neighbors=44; total time=   0.0s\n",
      "[CV 5/5] END .................................n_neighbors=44; total time=   0.0s\n",
      "[CV 1/5] END .................................n_neighbors=45; total time=   0.0s\n",
      "[CV 2/5] END .................................n_neighbors=45; total time=   0.0s\n",
      "[CV 3/5] END .................................n_neighbors=45; total time=   0.0s\n",
      "[CV 4/5] END .................................n_neighbors=45; total time=   0.0s\n",
      "[CV 5/5] END .................................n_neighbors=45; total time=   0.0s\n",
      "[CV 1/5] END .................................n_neighbors=46; total time=   0.0s\n",
      "[CV 2/5] END .................................n_neighbors=46; total time=   0.0s\n",
      "[CV 3/5] END .................................n_neighbors=46; total time=   0.0s\n",
      "[CV 4/5] END .................................n_neighbors=46; total time=   0.0s\n",
      "[CV 5/5] END .................................n_neighbors=46; total time=   0.0s\n",
      "[CV 1/5] END .................................n_neighbors=47; total time=   0.0s\n",
      "[CV 2/5] END .................................n_neighbors=47; total time=   0.0s\n",
      "[CV 3/5] END .................................n_neighbors=47; total time=   0.0s\n",
      "[CV 4/5] END .................................n_neighbors=47; total time=   0.0s\n",
      "[CV 5/5] END .................................n_neighbors=47; total time=   0.0s\n",
      "[CV 1/5] END .................................n_neighbors=48; total time=   0.0s\n",
      "[CV 2/5] END .................................n_neighbors=48; total time=   0.0s\n",
      "[CV 3/5] END .................................n_neighbors=48; total time=   0.0s\n",
      "[CV 4/5] END .................................n_neighbors=48; total time=   0.0s\n",
      "[CV 5/5] END .................................n_neighbors=48; total time=   0.0s\n",
      "[CV 1/5] END .................................n_neighbors=49; total time=   0.0s\n",
      "[CV 2/5] END .................................n_neighbors=49; total time=   0.0s\n",
      "[CV 3/5] END .................................n_neighbors=49; total time=   0.0s\n",
      "[CV 4/5] END .................................n_neighbors=49; total time=   0.0s\n",
      "[CV 5/5] END .................................n_neighbors=49; total time=   0.0s\n",
      "[CV 1/5] END .................................n_neighbors=50; total time=   0.0s\n",
      "[CV 2/5] END .................................n_neighbors=50; total time=   0.0s\n",
      "[CV 3/5] END .................................n_neighbors=50; total time=   0.0s\n",
      "[CV 4/5] END .................................n_neighbors=50; total time=   0.0s\n",
      "[CV 5/5] END .................................n_neighbors=50; total time=   0.0s\n",
      "[CV 1/5] END .................................n_neighbors=51; total time=   0.0s\n",
      "[CV 2/5] END .................................n_neighbors=51; total time=   0.0s\n",
      "[CV 3/5] END .................................n_neighbors=51; total time=   0.0s\n",
      "[CV 4/5] END .................................n_neighbors=51; total time=   0.0s\n",
      "[CV 5/5] END .................................n_neighbors=51; total time=   0.0s\n",
      "[CV 1/5] END .................................n_neighbors=52; total time=   0.0s\n",
      "[CV 2/5] END .................................n_neighbors=52; total time=   0.0s\n",
      "[CV 3/5] END .................................n_neighbors=52; total time=   0.0s\n",
      "[CV 4/5] END .................................n_neighbors=52; total time=   0.0s\n",
      "[CV 5/5] END .................................n_neighbors=52; total time=   0.0s\n",
      "[CV 1/5] END .................................n_neighbors=53; total time=   0.0s\n",
      "[CV 2/5] END .................................n_neighbors=53; total time=   0.0s\n",
      "[CV 3/5] END .................................n_neighbors=53; total time=   0.0s\n",
      "[CV 4/5] END .................................n_neighbors=53; total time=   0.0s\n",
      "[CV 5/5] END .................................n_neighbors=53; total time=   0.0s\n",
      "[CV 1/5] END .................................n_neighbors=54; total time=   0.0s\n",
      "[CV 2/5] END .................................n_neighbors=54; total time=   0.0s\n",
      "[CV 3/5] END .................................n_neighbors=54; total time=   0.0s\n",
      "[CV 4/5] END .................................n_neighbors=54; total time=   0.0s\n",
      "[CV 5/5] END .................................n_neighbors=54; total time=   0.0s\n",
      "[CV 1/5] END .................................n_neighbors=55; total time=   0.0s\n",
      "[CV 2/5] END .................................n_neighbors=55; total time=   0.0s\n",
      "[CV 3/5] END .................................n_neighbors=55; total time=   0.0s\n",
      "[CV 4/5] END .................................n_neighbors=55; total time=   0.0s\n",
      "[CV 5/5] END .................................n_neighbors=55; total time=   0.0s\n",
      "[CV 1/5] END .................................n_neighbors=56; total time=   0.0s\n",
      "[CV 2/5] END .................................n_neighbors=56; total time=   0.0s\n",
      "[CV 3/5] END .................................n_neighbors=56; total time=   0.0s\n",
      "[CV 4/5] END .................................n_neighbors=56; total time=   0.0s\n",
      "[CV 5/5] END .................................n_neighbors=56; total time=   0.0s\n",
      "[CV 1/5] END .................................n_neighbors=57; total time=   0.0s\n",
      "[CV 2/5] END .................................n_neighbors=57; total time=   0.0s\n",
      "[CV 3/5] END .................................n_neighbors=57; total time=   0.0s\n",
      "[CV 4/5] END .................................n_neighbors=57; total time=   0.0s\n",
      "[CV 5/5] END .................................n_neighbors=57; total time=   0.0s\n",
      "[CV 1/5] END .................................n_neighbors=58; total time=   0.0s\n",
      "[CV 2/5] END .................................n_neighbors=58; total time=   0.0s\n",
      "[CV 3/5] END .................................n_neighbors=58; total time=   0.0s\n",
      "[CV 4/5] END .................................n_neighbors=58; total time=   0.0s\n",
      "[CV 5/5] END .................................n_neighbors=58; total time=   0.0s\n",
      "[CV 1/5] END .................................n_neighbors=59; total time=   0.0s\n",
      "[CV 2/5] END .................................n_neighbors=59; total time=   0.0s\n",
      "[CV 3/5] END .................................n_neighbors=59; total time=   0.0s\n",
      "[CV 4/5] END .................................n_neighbors=59; total time=   0.0s\n",
      "[CV 5/5] END .................................n_neighbors=59; total time=   0.0s\n",
      "[CV 1/5] END .................................n_neighbors=60; total time=   0.0s\n",
      "[CV 2/5] END .................................n_neighbors=60; total time=   0.0s\n",
      "[CV 3/5] END .................................n_neighbors=60; total time=   0.0s\n",
      "[CV 4/5] END .................................n_neighbors=60; total time=   0.0s\n",
      "[CV 5/5] END .................................n_neighbors=60; total time=   0.0s\n",
      "[CV 1/5] END .................................n_neighbors=61; total time=   0.0s\n",
      "[CV 2/5] END .................................n_neighbors=61; total time=   0.0s\n",
      "[CV 3/5] END .................................n_neighbors=61; total time=   0.0s\n",
      "[CV 4/5] END .................................n_neighbors=61; total time=   0.0s\n",
      "[CV 5/5] END .................................n_neighbors=61; total time=   0.0s\n",
      "[CV 1/5] END .................................n_neighbors=62; total time=   0.0s\n",
      "[CV 2/5] END .................................n_neighbors=62; total time=   0.0s\n",
      "[CV 3/5] END .................................n_neighbors=62; total time=   0.0s\n",
      "[CV 4/5] END .................................n_neighbors=62; total time=   0.0s\n",
      "[CV 5/5] END .................................n_neighbors=62; total time=   0.0s\n",
      "[CV 1/5] END .................................n_neighbors=63; total time=   0.0s\n",
      "[CV 2/5] END .................................n_neighbors=63; total time=   0.0s\n",
      "[CV 3/5] END .................................n_neighbors=63; total time=   0.0s\n",
      "[CV 4/5] END .................................n_neighbors=63; total time=   0.0s\n",
      "[CV 5/5] END .................................n_neighbors=63; total time=   0.0s\n",
      "[CV 1/5] END .................................n_neighbors=64; total time=   0.0s\n",
      "[CV 2/5] END .................................n_neighbors=64; total time=   0.0s\n",
      "[CV 3/5] END .................................n_neighbors=64; total time=   0.0s\n",
      "[CV 4/5] END .................................n_neighbors=64; total time=   0.0s\n",
      "[CV 5/5] END .................................n_neighbors=64; total time=   0.0s\n",
      "[CV 1/5] END .................................n_neighbors=65; total time=   0.0s\n",
      "[CV 2/5] END .................................n_neighbors=65; total time=   0.0s\n",
      "[CV 3/5] END .................................n_neighbors=65; total time=   0.0s\n",
      "[CV 4/5] END .................................n_neighbors=65; total time=   0.0s\n",
      "[CV 5/5] END .................................n_neighbors=65; total time=   0.0s\n",
      "[CV 1/5] END .................................n_neighbors=66; total time=   0.0s\n",
      "[CV 2/5] END .................................n_neighbors=66; total time=   0.0s\n",
      "[CV 3/5] END .................................n_neighbors=66; total time=   0.0s\n",
      "[CV 4/5] END .................................n_neighbors=66; total time=   0.0s\n",
      "[CV 5/5] END .................................n_neighbors=66; total time=   0.0s\n",
      "[CV 1/5] END .................................n_neighbors=67; total time=   0.0s\n",
      "[CV 2/5] END .................................n_neighbors=67; total time=   0.0s\n",
      "[CV 3/5] END .................................n_neighbors=67; total time=   0.0s\n",
      "[CV 4/5] END .................................n_neighbors=67; total time=   0.0s\n",
      "[CV 5/5] END .................................n_neighbors=67; total time=   0.0s\n",
      "[CV 1/5] END .................................n_neighbors=68; total time=   0.0s\n",
      "[CV 2/5] END .................................n_neighbors=68; total time=   0.0s\n",
      "[CV 3/5] END .................................n_neighbors=68; total time=   0.0s\n",
      "[CV 4/5] END .................................n_neighbors=68; total time=   0.0s\n",
      "[CV 5/5] END .................................n_neighbors=68; total time=   0.0s\n",
      "[CV 1/5] END .................................n_neighbors=69; total time=   0.0s\n",
      "[CV 2/5] END .................................n_neighbors=69; total time=   0.0s\n",
      "[CV 3/5] END .................................n_neighbors=69; total time=   0.0s\n",
      "[CV 4/5] END .................................n_neighbors=69; total time=   0.0s\n",
      "[CV 5/5] END .................................n_neighbors=69; total time=   0.0s\n",
      "[CV 1/5] END .................................n_neighbors=70; total time=   0.0s\n",
      "[CV 2/5] END .................................n_neighbors=70; total time=   0.0s\n",
      "[CV 3/5] END .................................n_neighbors=70; total time=   0.0s\n",
      "[CV 4/5] END .................................n_neighbors=70; total time=   0.0s\n",
      "[CV 5/5] END .................................n_neighbors=70; total time=   0.0s\n",
      "[CV 1/5] END .................................n_neighbors=71; total time=   0.0s\n",
      "[CV 2/5] END .................................n_neighbors=71; total time=   0.0s\n",
      "[CV 3/5] END .................................n_neighbors=71; total time=   0.0s\n",
      "[CV 4/5] END .................................n_neighbors=71; total time=   0.0s\n",
      "[CV 5/5] END .................................n_neighbors=71; total time=   0.0s\n",
      "[CV 1/5] END .................................n_neighbors=72; total time=   0.0s\n",
      "[CV 2/5] END .................................n_neighbors=72; total time=   0.0s\n",
      "[CV 3/5] END .................................n_neighbors=72; total time=   0.0s\n",
      "[CV 4/5] END .................................n_neighbors=72; total time=   0.0s\n",
      "[CV 5/5] END .................................n_neighbors=72; total time=   0.0s\n",
      "[CV 1/5] END .................................n_neighbors=73; total time=   0.0s\n",
      "[CV 2/5] END .................................n_neighbors=73; total time=   0.0s\n",
      "[CV 3/5] END .................................n_neighbors=73; total time=   0.0s\n",
      "[CV 4/5] END .................................n_neighbors=73; total time=   0.0s\n",
      "[CV 5/5] END .................................n_neighbors=73; total time=   0.0s\n",
      "[CV 1/5] END .................................n_neighbors=74; total time=   0.0s\n",
      "[CV 2/5] END .................................n_neighbors=74; total time=   0.0s\n",
      "[CV 3/5] END .................................n_neighbors=74; total time=   0.0s\n",
      "[CV 4/5] END .................................n_neighbors=74; total time=   0.0s\n",
      "[CV 5/5] END .................................n_neighbors=74; total time=   0.0s\n",
      "[CV 1/5] END .................................n_neighbors=75; total time=   0.0s\n",
      "[CV 2/5] END .................................n_neighbors=75; total time=   0.0s\n",
      "[CV 3/5] END .................................n_neighbors=75; total time=   0.0s\n",
      "[CV 4/5] END .................................n_neighbors=75; total time=   0.0s\n",
      "[CV 5/5] END .................................n_neighbors=75; total time=   0.0s\n",
      "[CV 1/5] END .................................n_neighbors=76; total time=   0.0s\n",
      "[CV 2/5] END .................................n_neighbors=76; total time=   0.0s\n",
      "[CV 3/5] END .................................n_neighbors=76; total time=   0.0s\n",
      "[CV 4/5] END .................................n_neighbors=76; total time=   0.0s\n",
      "[CV 5/5] END .................................n_neighbors=76; total time=   0.0s\n",
      "[CV 1/5] END .................................n_neighbors=77; total time=   0.0s\n",
      "[CV 2/5] END .................................n_neighbors=77; total time=   0.0s\n",
      "[CV 3/5] END .................................n_neighbors=77; total time=   0.0s\n",
      "[CV 4/5] END .................................n_neighbors=77; total time=   0.0s\n",
      "[CV 5/5] END .................................n_neighbors=77; total time=   0.0s\n",
      "[CV 1/5] END .................................n_neighbors=78; total time=   0.0s\n",
      "[CV 2/5] END .................................n_neighbors=78; total time=   0.0s\n",
      "[CV 3/5] END .................................n_neighbors=78; total time=   0.0s\n",
      "[CV 4/5] END .................................n_neighbors=78; total time=   0.0s\n",
      "[CV 5/5] END .................................n_neighbors=78; total time=   0.0s\n",
      "[CV 1/5] END .................................n_neighbors=79; total time=   0.0s\n",
      "[CV 2/5] END .................................n_neighbors=79; total time=   0.0s\n",
      "[CV 3/5] END .................................n_neighbors=79; total time=   0.0s\n",
      "[CV 4/5] END .................................n_neighbors=79; total time=   0.0s\n",
      "[CV 5/5] END .................................n_neighbors=79; total time=   0.0s\n",
      "[CV 1/5] END .................................n_neighbors=80; total time=   0.0s\n",
      "[CV 2/5] END .................................n_neighbors=80; total time=   0.0s\n",
      "[CV 3/5] END .................................n_neighbors=80; total time=   0.0s\n",
      "[CV 4/5] END .................................n_neighbors=80; total time=   0.0s\n",
      "[CV 5/5] END .................................n_neighbors=80; total time=   0.0s\n",
      "[CV 1/5] END .................................n_neighbors=81; total time=   0.0s\n",
      "[CV 2/5] END .................................n_neighbors=81; total time=   0.0s\n",
      "[CV 3/5] END .................................n_neighbors=81; total time=   0.0s\n",
      "[CV 4/5] END .................................n_neighbors=81; total time=   0.0s\n",
      "[CV 5/5] END .................................n_neighbors=81; total time=   0.0s\n",
      "[CV 1/5] END .................................n_neighbors=82; total time=   0.0s\n",
      "[CV 2/5] END .................................n_neighbors=82; total time=   0.0s\n",
      "[CV 3/5] END .................................n_neighbors=82; total time=   0.0s\n",
      "[CV 4/5] END .................................n_neighbors=82; total time=   0.0s\n",
      "[CV 5/5] END .................................n_neighbors=82; total time=   0.0s\n",
      "[CV 1/5] END .................................n_neighbors=83; total time=   0.0s\n",
      "[CV 2/5] END .................................n_neighbors=83; total time=   0.0s\n",
      "[CV 3/5] END .................................n_neighbors=83; total time=   0.0s\n",
      "[CV 4/5] END .................................n_neighbors=83; total time=   0.0s\n",
      "[CV 5/5] END .................................n_neighbors=83; total time=   0.0s\n",
      "[CV 1/5] END .................................n_neighbors=84; total time=   0.0s\n",
      "[CV 2/5] END .................................n_neighbors=84; total time=   0.0s\n",
      "[CV 3/5] END .................................n_neighbors=84; total time=   0.0s\n",
      "[CV 4/5] END .................................n_neighbors=84; total time=   0.0s\n",
      "[CV 5/5] END .................................n_neighbors=84; total time=   0.0s\n",
      "[CV 1/5] END .................................n_neighbors=85; total time=   0.0s\n",
      "[CV 2/5] END .................................n_neighbors=85; total time=   0.0s\n",
      "[CV 3/5] END .................................n_neighbors=85; total time=   0.0s\n",
      "[CV 4/5] END .................................n_neighbors=85; total time=   0.0s\n",
      "[CV 5/5] END .................................n_neighbors=85; total time=   0.0s\n",
      "[CV 1/5] END .................................n_neighbors=86; total time=   0.0s\n",
      "[CV 2/5] END .................................n_neighbors=86; total time=   0.0s\n",
      "[CV 3/5] END .................................n_neighbors=86; total time=   0.0s\n",
      "[CV 4/5] END .................................n_neighbors=86; total time=   0.0s\n",
      "[CV 5/5] END .................................n_neighbors=86; total time=   0.0s\n",
      "[CV 1/5] END .................................n_neighbors=87; total time=   0.0s\n",
      "[CV 2/5] END .................................n_neighbors=87; total time=   0.0s\n",
      "[CV 3/5] END .................................n_neighbors=87; total time=   0.0s\n",
      "[CV 4/5] END .................................n_neighbors=87; total time=   0.0s\n",
      "[CV 5/5] END .................................n_neighbors=87; total time=   0.0s\n",
      "[CV 1/5] END .................................n_neighbors=88; total time=   0.0s\n",
      "[CV 2/5] END .................................n_neighbors=88; total time=   0.0s\n",
      "[CV 3/5] END .................................n_neighbors=88; total time=   0.0s\n",
      "[CV 4/5] END .................................n_neighbors=88; total time=   0.0s\n",
      "[CV 5/5] END .................................n_neighbors=88; total time=   0.0s\n",
      "[CV 1/5] END .................................n_neighbors=89; total time=   0.0s\n",
      "[CV 2/5] END .................................n_neighbors=89; total time=   0.0s\n",
      "[CV 3/5] END .................................n_neighbors=89; total time=   0.0s\n",
      "[CV 4/5] END .................................n_neighbors=89; total time=   0.0s\n",
      "[CV 5/5] END .................................n_neighbors=89; total time=   0.0s\n",
      "[CV 1/5] END .................................n_neighbors=90; total time=   0.0s\n",
      "[CV 2/5] END .................................n_neighbors=90; total time=   0.0s\n",
      "[CV 3/5] END .................................n_neighbors=90; total time=   0.0s\n",
      "[CV 4/5] END .................................n_neighbors=90; total time=   0.0s\n",
      "[CV 5/5] END .................................n_neighbors=90; total time=   0.0s\n",
      "[CV 1/5] END .................................n_neighbors=91; total time=   0.0s\n",
      "[CV 2/5] END .................................n_neighbors=91; total time=   0.0s\n",
      "[CV 3/5] END .................................n_neighbors=91; total time=   0.0s\n",
      "[CV 4/5] END .................................n_neighbors=91; total time=   0.0s\n",
      "[CV 5/5] END .................................n_neighbors=91; total time=   0.0s\n",
      "[CV 1/5] END .................................n_neighbors=92; total time=   0.0s\n",
      "[CV 2/5] END .................................n_neighbors=92; total time=   0.0s\n",
      "[CV 3/5] END .................................n_neighbors=92; total time=   0.0s\n",
      "[CV 4/5] END .................................n_neighbors=92; total time=   0.0s\n",
      "[CV 5/5] END .................................n_neighbors=92; total time=   0.0s\n",
      "[CV 1/5] END .................................n_neighbors=93; total time=   0.0s\n",
      "[CV 2/5] END .................................n_neighbors=93; total time=   0.0s\n",
      "[CV 3/5] END .................................n_neighbors=93; total time=   0.0s\n",
      "[CV 4/5] END .................................n_neighbors=93; total time=   0.0s\n",
      "[CV 5/5] END .................................n_neighbors=93; total time=   0.0s\n",
      "[CV 1/5] END .................................n_neighbors=94; total time=   0.0s\n",
      "[CV 2/5] END .................................n_neighbors=94; total time=   0.0s\n",
      "[CV 3/5] END .................................n_neighbors=94; total time=   0.0s\n",
      "[CV 4/5] END .................................n_neighbors=94; total time=   0.0s\n",
      "[CV 5/5] END .................................n_neighbors=94; total time=   0.0s\n",
      "[CV 1/5] END .................................n_neighbors=95; total time=   0.0s\n",
      "[CV 2/5] END .................................n_neighbors=95; total time=   0.0s\n",
      "[CV 3/5] END .................................n_neighbors=95; total time=   0.0s\n",
      "[CV 4/5] END .................................n_neighbors=95; total time=   0.0s\n",
      "[CV 5/5] END .................................n_neighbors=95; total time=   0.0s\n",
      "[CV 1/5] END .................................n_neighbors=96; total time=   0.0s\n",
      "[CV 2/5] END .................................n_neighbors=96; total time=   0.0s\n",
      "[CV 3/5] END .................................n_neighbors=96; total time=   0.0s\n",
      "[CV 4/5] END .................................n_neighbors=96; total time=   0.0s\n",
      "[CV 5/5] END .................................n_neighbors=96; total time=   0.0s\n",
      "[CV 1/5] END .................................n_neighbors=97; total time=   0.0s\n",
      "[CV 2/5] END .................................n_neighbors=97; total time=   0.0s\n",
      "[CV 3/5] END .................................n_neighbors=97; total time=   0.0s\n",
      "[CV 4/5] END .................................n_neighbors=97; total time=   0.0s\n",
      "[CV 5/5] END .................................n_neighbors=97; total time=   0.0s\n",
      "[CV 1/5] END .................................n_neighbors=98; total time=   0.0s\n",
      "[CV 2/5] END .................................n_neighbors=98; total time=   0.0s\n",
      "[CV 3/5] END .................................n_neighbors=98; total time=   0.0s\n",
      "[CV 4/5] END .................................n_neighbors=98; total time=   0.0s\n",
      "[CV 5/5] END .................................n_neighbors=98; total time=   0.0s\n",
      "[CV 1/5] END .................................n_neighbors=99; total time=   0.0s\n",
      "[CV 2/5] END .................................n_neighbors=99; total time=   0.0s\n",
      "[CV 3/5] END .................................n_neighbors=99; total time=   0.0s\n",
      "[CV 4/5] END .................................n_neighbors=99; total time=   0.0s\n",
      "[CV 5/5] END .................................n_neighbors=99; total time=   0.0s\n",
      "[CV 1/5] END ................................n_neighbors=100; total time=   0.0s\n",
      "[CV 2/5] END ................................n_neighbors=100; total time=   0.0s\n",
      "[CV 3/5] END ................................n_neighbors=100; total time=   0.0s\n",
      "[CV 4/5] END ................................n_neighbors=100; total time=   0.0s\n",
      "[CV 5/5] END ................................n_neighbors=100; total time=   0.0s\n"
     ]
    },
    {
     "data": {
      "text/plain": [
       "GridSearchCV(estimator=KNeighborsClassifier(),\n",
       "             param_grid={'n_neighbors': [1, 2, 3, 4, 5, 6, 7, 8, 9, 10, 11, 12,\n",
       "                                         13, 14, 15, 16, 17, 18, 19, 20, 21, 22,\n",
       "                                         23, 24, 25, 26, 27, 28, 29, 30, ...]},\n",
       "             verbose=3)"
      ]
     },
     "execution_count": 83,
     "metadata": {},
     "output_type": "execute_result"
    }
   ],
   "source": [
    "from sklearn.neighbors import KNeighborsClassifier\n",
    "\n",
    "\n",
    "param_knn = {'n_neighbors': list(range(1, 101))\n",
    "             }\n",
    "  \n",
    "grid_model_knn = GridSearchCV(KNeighborsClassifier(), param_knn, refit = True, verbose = 3)\n",
    "  \n",
    "\n",
    "grid_model_knn.fit(pca_X_train, y_train)\n"
   ]
  },
  {
   "cell_type": "code",
   "execution_count": 84,
   "id": "ff9d8655",
   "metadata": {},
   "outputs": [
    {
     "name": "stdout",
     "output_type": "stream",
     "text": [
      "{'n_neighbors': 2}\n",
      "KNeighborsClassifier(n_neighbors=2)\n"
     ]
    }
   ],
   "source": [
    "print(grid_model_knn.best_params_)  \n",
    "print(grid_model_knn.best_estimator_)"
   ]
  },
  {
   "cell_type": "code",
   "execution_count": 85,
   "id": "6dd21dfd",
   "metadata": {},
   "outputs": [
    {
     "name": "stdout",
     "output_type": "stream",
     "text": [
      "========== KNN Results ==========\n",
      "Accuracy    :  1.0\n",
      "Recall      :  1.0\n",
      "Precision   :  1.0\n",
      "F1 Score    :  1.0\n",
      "Confusion Matrix: \n",
      "[[37  0  0]\n",
      " [ 0 17  0]\n",
      " [ 0  0 30]]\n"
     ]
    }
   ],
   "source": [
    "model_knn = KNeighborsClassifier(n_neighbors=2)\n",
    "\n",
    "model_knn.fit(pca_X_train, y_train)\n",
    "\n",
    "y_pred_knn = model_knn.predict(pca_X_test)\n",
    "\n",
    "ac_score_knn = accuracy_score(y_test, y_pred_knn)\n",
    "rc_score_knn = recall_score(y_test, y_pred_knn, average=\"weighted\")\n",
    "pr_score_knn = precision_score(y_test, y_pred_knn, average=\"weighted\")\n",
    "f1_score_knn = f1_score(y_test, y_pred_knn, average='micro')\n",
    "confusion_matrix_knn = confusion_matrix(y_test, y_pred_knn)\n",
    "\n",
    "print(\"========== KNN Results ==========\")\n",
    "print(\"Accuracy    : \", ac_score_knn)\n",
    "print(\"Recall      : \", rc_score_knn)\n",
    "print(\"Precision   : \", pr_score_knn)\n",
    "print(\"F1 Score    : \", f1_score_knn)\n",
    "print(\"Confusion Matrix: \")\n",
    "print(confusion_matrix_knn)\n"
   ]
  },
  {
   "cell_type": "markdown",
   "id": "61e7e064",
   "metadata": {},
   "source": [
    "<b>Random Forest Gridsearch:</b>"
   ]
  },
  {
   "cell_type": "code",
   "execution_count": 86,
   "id": "fb449ac7",
   "metadata": {},
   "outputs": [
    {
     "name": "stdout",
     "output_type": "stream",
     "text": [
      "Fitting 5 folds for each of 12 candidates, totalling 60 fits\n",
      "[CV 1/5] END .............max_features=auto, n_estimators=50; total time=   0.0s\n",
      "[CV 2/5] END .............max_features=auto, n_estimators=50; total time=   0.0s\n",
      "[CV 3/5] END .............max_features=auto, n_estimators=50; total time=   0.0s\n",
      "[CV 4/5] END .............max_features=auto, n_estimators=50; total time=   0.0s\n",
      "[CV 5/5] END .............max_features=auto, n_estimators=50; total time=   0.0s\n",
      "[CV 1/5] END ............max_features=auto, n_estimators=100; total time=   0.0s\n",
      "[CV 2/5] END ............max_features=auto, n_estimators=100; total time=   0.0s\n",
      "[CV 3/5] END ............max_features=auto, n_estimators=100; total time=   0.0s\n",
      "[CV 4/5] END ............max_features=auto, n_estimators=100; total time=   0.0s\n",
      "[CV 5/5] END ............max_features=auto, n_estimators=100; total time=   0.0s\n",
      "[CV 1/5] END ............max_features=auto, n_estimators=150; total time=   0.1s\n",
      "[CV 2/5] END ............max_features=auto, n_estimators=150; total time=   0.1s\n",
      "[CV 3/5] END ............max_features=auto, n_estimators=150; total time=   0.1s\n",
      "[CV 4/5] END ............max_features=auto, n_estimators=150; total time=   0.1s\n",
      "[CV 5/5] END ............max_features=auto, n_estimators=150; total time=   0.1s\n",
      "[CV 1/5] END ............max_features=auto, n_estimators=200; total time=   0.1s\n",
      "[CV 2/5] END ............max_features=auto, n_estimators=200; total time=   0.1s\n",
      "[CV 3/5] END ............max_features=auto, n_estimators=200; total time=   0.1s\n",
      "[CV 4/5] END ............max_features=auto, n_estimators=200; total time=   0.1s\n",
      "[CV 5/5] END ............max_features=auto, n_estimators=200; total time=   0.1s\n",
      "[CV 1/5] END .............max_features=sqrt, n_estimators=50; total time=   0.0s\n",
      "[CV 2/5] END .............max_features=sqrt, n_estimators=50; total time=   0.0s\n",
      "[CV 3/5] END .............max_features=sqrt, n_estimators=50; total time=   0.0s\n",
      "[CV 4/5] END .............max_features=sqrt, n_estimators=50; total time=   0.0s\n",
      "[CV 5/5] END .............max_features=sqrt, n_estimators=50; total time=   0.0s\n",
      "[CV 1/5] END ............max_features=sqrt, n_estimators=100; total time=   0.0s\n",
      "[CV 2/5] END ............max_features=sqrt, n_estimators=100; total time=   0.0s\n",
      "[CV 3/5] END ............max_features=sqrt, n_estimators=100; total time=   0.0s\n",
      "[CV 4/5] END ............max_features=sqrt, n_estimators=100; total time=   0.0s\n",
      "[CV 5/5] END ............max_features=sqrt, n_estimators=100; total time=   0.0s\n",
      "[CV 1/5] END ............max_features=sqrt, n_estimators=150; total time=   0.1s\n",
      "[CV 2/5] END ............max_features=sqrt, n_estimators=150; total time=   0.1s\n",
      "[CV 3/5] END ............max_features=sqrt, n_estimators=150; total time=   0.1s\n",
      "[CV 4/5] END ............max_features=sqrt, n_estimators=150; total time=   0.1s\n",
      "[CV 5/5] END ............max_features=sqrt, n_estimators=150; total time=   0.1s\n",
      "[CV 1/5] END ............max_features=sqrt, n_estimators=200; total time=   0.1s\n",
      "[CV 2/5] END ............max_features=sqrt, n_estimators=200; total time=   0.1s\n",
      "[CV 3/5] END ............max_features=sqrt, n_estimators=200; total time=   0.1s\n",
      "[CV 4/5] END ............max_features=sqrt, n_estimators=200; total time=   0.1s\n",
      "[CV 5/5] END ............max_features=sqrt, n_estimators=200; total time=   0.1s\n",
      "[CV 1/5] END .............max_features=log2, n_estimators=50; total time=   0.0s\n",
      "[CV 2/5] END .............max_features=log2, n_estimators=50; total time=   0.0s\n",
      "[CV 3/5] END .............max_features=log2, n_estimators=50; total time=   0.0s\n",
      "[CV 4/5] END .............max_features=log2, n_estimators=50; total time=   0.0s\n",
      "[CV 5/5] END .............max_features=log2, n_estimators=50; total time=   0.0s\n",
      "[CV 1/5] END ............max_features=log2, n_estimators=100; total time=   0.0s\n",
      "[CV 2/5] END ............max_features=log2, n_estimators=100; total time=   0.0s\n",
      "[CV 3/5] END ............max_features=log2, n_estimators=100; total time=   0.0s\n",
      "[CV 4/5] END ............max_features=log2, n_estimators=100; total time=   0.0s\n",
      "[CV 5/5] END ............max_features=log2, n_estimators=100; total time=   0.0s\n",
      "[CV 1/5] END ............max_features=log2, n_estimators=150; total time=   0.1s\n",
      "[CV 2/5] END ............max_features=log2, n_estimators=150; total time=   0.1s\n",
      "[CV 3/5] END ............max_features=log2, n_estimators=150; total time=   0.1s\n",
      "[CV 4/5] END ............max_features=log2, n_estimators=150; total time=   0.0s\n",
      "[CV 5/5] END ............max_features=log2, n_estimators=150; total time=   0.0s\n",
      "[CV 1/5] END ............max_features=log2, n_estimators=200; total time=   0.1s\n",
      "[CV 2/5] END ............max_features=log2, n_estimators=200; total time=   0.1s\n",
      "[CV 3/5] END ............max_features=log2, n_estimators=200; total time=   0.1s\n",
      "[CV 4/5] END ............max_features=log2, n_estimators=200; total time=   0.1s\n",
      "[CV 5/5] END ............max_features=log2, n_estimators=200; total time=   0.1s\n"
     ]
    },
    {
     "data": {
      "text/plain": [
       "GridSearchCV(estimator=RandomForestClassifier(random_state=42),\n",
       "             param_grid={'max_features': ['auto', 'sqrt', 'log2'],\n",
       "                         'n_estimators': [50, 100, 150, 200]},\n",
       "             verbose=3)"
      ]
     },
     "execution_count": 86,
     "metadata": {},
     "output_type": "execute_result"
    }
   ],
   "source": [
    "from sklearn.ensemble import RandomForestClassifier\n",
    "\n",
    "rfc=RandomForestClassifier(random_state=42)\n",
    "\n",
    "param_rf = { \n",
    "    'n_estimators': [50, 100, 150, 200],\n",
    "    'max_features': ['auto', 'sqrt', 'log2'],\n",
    "}\n",
    "  \n",
    "grid_model_rf = GridSearchCV(rfc, param_rf, refit = True, verbose = 3)\n",
    "  \n",
    "grid_model_rf.fit(pca_X_train, y_train)"
   ]
  },
  {
   "cell_type": "code",
   "execution_count": 87,
   "id": "d5c188da",
   "metadata": {},
   "outputs": [
    {
     "name": "stdout",
     "output_type": "stream",
     "text": [
      "{'max_features': 'auto', 'n_estimators': 50}\n",
      "RandomForestClassifier(n_estimators=50, random_state=42)\n"
     ]
    }
   ],
   "source": [
    "print(grid_model_rf.best_params_)  \n",
    "print(grid_model_rf.best_estimator_)"
   ]
  },
  {
   "cell_type": "code",
   "execution_count": 88,
   "id": "03da772e",
   "metadata": {},
   "outputs": [
    {
     "name": "stdout",
     "output_type": "stream",
     "text": [
      "========== Random Forest Results ==========\n",
      "Accuracy    :  0.9880952380952381\n",
      "Recall      :  0.9880952380952381\n",
      "Precision   :  0.9887566137566137\n",
      "F1 Score    :  0.9880952380952381\n",
      "Confusion Matrix: \n",
      "[[36  1  0]\n",
      " [ 0 17  0]\n",
      " [ 0  0 30]]\n"
     ]
    }
   ],
   "source": [
    "model_rf = RandomForestClassifier(n_estimators=50, random_state=42)\n",
    "\n",
    "model_rf.fit(pca_X_train, y_train)\n",
    " \n",
    "y_pred_rf = model_rf.predict(pca_X_test)\n",
    "\n",
    "ac_score_rf = accuracy_score(y_test, y_pred_rf)\n",
    "rc_score_rf = recall_score(y_test, y_pred_rf, average=\"weighted\")\n",
    "pr_score_rf = precision_score(y_test, y_pred_rf, average=\"weighted\")\n",
    "f1_score_rf = f1_score(y_test, y_pred_rf, average='micro')\n",
    "confusion_matrix_rf = confusion_matrix(y_test, y_pred_rf)\n",
    "\n",
    "print(\"========== Random Forest Results ==========\")\n",
    "print(\"Accuracy    : \", ac_score_rf)\n",
    "print(\"Recall      : \", rc_score_rf)\n",
    "print(\"Precision   : \", pr_score_rf)\n",
    "print(\"F1 Score    : \", f1_score_rf)\n",
    "print(\"Confusion Matrix: \")\n",
    "print(confusion_matrix_rf)\n"
   ]
  }
 ],
 "metadata": {
  "kernelspec": {
   "display_name": "Python 3",
   "language": "python",
   "name": "python3"
  },
  "language_info": {
   "codemirror_mode": {
    "name": "ipython",
    "version": 3
   },
   "file_extension": ".py",
   "mimetype": "text/x-python",
   "name": "python",
   "nbconvert_exporter": "python",
   "pygments_lexer": "ipython3",
   "version": "3.8.8"
  }
 },
 "nbformat": 4,
 "nbformat_minor": 5
}
